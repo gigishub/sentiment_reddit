{
 "cells": [
  {
   "cell_type": "markdown",
   "metadata": {},
   "source": [
    "### explanation video 4 \n",
    "### video link: https://www.youtube.com/watch?v=wpyCzodvO3A&list=PL2VXyKi-KpYs1bSnT8bfMFyGS-wMcjesM&index=4&pp=iAQB"
   ]
  },
  {
   "cell_type": "markdown",
   "metadata": {},
   "source": [
    "# custom function to load and save json files "
   ]
  },
  {
   "cell_type": "code",
   "execution_count": 2,
   "metadata": {},
   "outputs": [],
   "source": [
    "import json \n",
    "\n",
    "def load_text_file(file):\n",
    "    with open(file, 'r') as f:\n",
    "        data = f.read()\n",
    "    return data\n",
    "\n",
    "def load_json_file(file_name):\n",
    "    with open(file_name, 'r') as f:\n",
    "        data = json.load(f)\n",
    "    return data\n",
    "\n",
    "\n",
    "# Define the function to save the list to a JSON file\n",
    "def save_json_file(file_path, data):\n",
    "    with open(file_path, 'w') as f:\n",
    "        json.dump(data, f, indent=4)"
   ]
  },
  {
   "cell_type": "markdown",
   "metadata": {},
   "source": [
    "## input list for entities to be recognised by entity ruler or ner model\n",
    "Add list in cell below or  \n",
    "use existing json file path of list(datatype) that should become entities"
   ]
  },
  {
   "cell_type": "code",
   "execution_count": 3,
   "metadata": {},
   "outputs": [
    {
     "name": "stdout",
     "output_type": "stream",
     "text": [
      "saved new json file: /Users/macbookair/Documents/Python/Surf_jobs/spacy/training_ML_model/training_data/intro_word_list.json\n"
     ]
    }
   ],
   "source": [
    "import os\n",
    "json_list_file_path = ''\n",
    "\n",
    "list_to_save = [\n",
    "    \"strive\",\n",
    "    \"dedicated\",\n",
    "    \"focused\",\n",
    "    \"passionate\",\n",
    "    \"driven\",\n",
    "    \"devoted\",\n",
    "    \"committed\",\n",
    "    \"enthusiastic\",\n",
    "    \"determined\",\n",
    "    \"aimed\",\n",
    "    \"geared\",\n",
    "    \"oriented\",\n",
    "    \"centered\",\n",
    "    \"aligned\",\n",
    "    \"motivated\",\n",
    "    \"inspired\",\n",
    "    \"engaged\",\n",
    "    \"invested\",\n",
    "    \"pledged\",\n",
    "    \"resolved\",\n",
    "    \"intent\",\n",
    "    \"concentrated\",\n",
    "    \"targeted\",\n",
    "    \"anchored\",\n",
    "    \"rooted\",\n",
    "    \"grounded\",\n",
    "    \"founded\",\n",
    "    \"established\",\n",
    "    \"built\",\n",
    "    \"designed\",\n",
    "    \"crafted\"\n",
    "    \"innovative\",\n",
    "    \"visionary\",\n",
    "    \"proactive\",\n",
    "    \"dynamic\",\n",
    "    \"strategic\",\n",
    "    \"resourceful\",\n",
    "    \"versatile\",\n",
    "    \"adaptable\",\n",
    "    \"resilient\",\n",
    "    \"progressive\",\n",
    "    \"forward-thinking\",\n",
    "    \"transformative\",\n",
    "    \"pioneering\",\n",
    "    \"trailblazing\",\n",
    "    \"groundbreaking\",\n",
    "    \"cutting-edge\",\n",
    "    \"leading\",\n",
    "    \"influential\",\n",
    "    \"impactful\",\n",
    "    \"empowered\",\n",
    "    \"energized\",\n",
    "    \"driven\",\n",
    "    \"focused\",\n",
    "    \"dedicated\",\n",
    "    \"committed\",\n",
    "    \"passionate\",\n",
    "    \"enthusiastic\",\n",
    "    \"motivated\",\n",
    "    \"inspired\",\n",
    "    \"engaged\",\n",
    "    \"innovative\",\n",
    "    \"visionary\",\n",
    "    \"proactive\",\n",
    "    \"dynamic\",\n",
    "    \"strategic\",\n",
    "    \"resourceful\",\n",
    "    \"versatile\",\n",
    "    \"adaptable\",\n",
    "    \"resilient\",\n",
    "    \"progressive\",\n",
    "    \"forward-thinking\",\n",
    "    \"transformative\",\n",
    "    \"pioneering\",\n",
    "    \"trailblazing\",\n",
    "    \"groundbreaking\",\n",
    "    \"cutting-edge\",\n",
    "    \"leading\",\n",
    "    \"influential\",\n",
    "    \"impactful\",\n",
    "    \"empowered\",\n",
    "    \"energized\",\n",
    "    \"driven\",\n",
    "    \"focused\",\n",
    "    \"dedicated\",\n",
    "    \"committed\",\n",
    "    \"passionate\",\n",
    "    \"enthusiastic\",\n",
    "    \"motivated\",\n",
    "    \"inspired\",\n",
    "    \"engaged\",\n",
    "    \"collaborative\",\n",
    "    \"inclusive\",\n",
    "    \"supportive\",\n",
    "    \"authentic\",\n",
    "    \"sustainable\",\n",
    "    \"immersive\",\n",
    "    \"vibrant\",\n",
    "    \"fun-loving\",\n",
    "    \"adventurous\",\n",
    "    \"dedicated\",\n",
    "    \"skilled\",\n",
    "    \"trustworthy\",\n",
    "    \"open-minded\",\n",
    "    \"creative\",\n",
    "    \"ambitious\",\n",
    "    \"empowering\",\n",
    "    \"impactful\",\n",
    "    \"enriching\",\n",
    "    \"uplifting\",\n",
    "    \"transformational\",\n",
    "    \"holistic\",\n",
    "    \"experiential\",\n",
    "    \"fostering\",\n",
    "    \"nurturing\"\n",
    "]\n",
    "\n",
    "#safe list tojson file \n",
    "try: \n",
    "    if not os.path.isfile(json_list_file_path):\n",
    "        save_json_file(json_list_file_path,list_to_save)\n",
    "        print(f'saved new json file: {json_list_file_path}')\n",
    "    else:\n",
    "        print(f'path exist: {json_list_file_path}')\n",
    "except Exception as e:\n",
    "    print(e)\n",
    "\n"
   ]
  },
  {
   "cell_type": "markdown",
   "metadata": {},
   "source": [
    "## Process entities from list \n",
    "\n",
    "This script is designed to load a list of entities from a JSON file and generate a \"better entitiy list\" that consists of different versions of each entity.   \n",
    "\n",
    "The goal is to cover all possible cases that could refer to that entity.\n"
   ]
  },
  {
   "cell_type": "code",
   "execution_count": 4,
   "metadata": {},
   "outputs": [
    {
     "name": "stdout",
     "output_type": "stream",
     "text": [
      "original entity list: 114\n",
      "updated list: 114\n"
     ]
    },
    {
     "data": {
      "text/plain": [
       "['strive',\n",
       " 'dedicated',\n",
       " 'focused',\n",
       " 'passionate',\n",
       " 'driven',\n",
       " 'devoted',\n",
       " 'committed',\n",
       " 'enthusiastic',\n",
       " 'determined',\n",
       " 'aimed',\n",
       " 'geared',\n",
       " 'oriented',\n",
       " 'centered',\n",
       " 'aligned',\n",
       " 'motivated',\n",
       " 'inspired',\n",
       " 'engaged',\n",
       " 'invested',\n",
       " 'pledged',\n",
       " 'resolved',\n",
       " 'intent',\n",
       " 'concentrated',\n",
       " 'targeted',\n",
       " 'anchored',\n",
       " 'rooted',\n",
       " 'grounded',\n",
       " 'founded',\n",
       " 'established',\n",
       " 'built',\n",
       " 'designed',\n",
       " 'craftedinnovative',\n",
       " 'visionary',\n",
       " 'proactive',\n",
       " 'dynamic',\n",
       " 'strategic',\n",
       " 'resourceful',\n",
       " 'versatile',\n",
       " 'adaptable',\n",
       " 'resilient',\n",
       " 'progressive',\n",
       " 'forward-thinking',\n",
       " 'transformative',\n",
       " 'pioneering',\n",
       " 'trailblazing',\n",
       " 'groundbreaking',\n",
       " 'cutting-edge',\n",
       " 'leading',\n",
       " 'influential',\n",
       " 'impactful',\n",
       " 'empowered',\n",
       " 'energized',\n",
       " 'driven',\n",
       " 'focused',\n",
       " 'dedicated',\n",
       " 'committed',\n",
       " 'passionate',\n",
       " 'enthusiastic',\n",
       " 'motivated',\n",
       " 'inspired',\n",
       " 'engaged',\n",
       " 'innovative',\n",
       " 'visionary',\n",
       " 'proactive',\n",
       " 'dynamic',\n",
       " 'strategic',\n",
       " 'resourceful',\n",
       " 'versatile',\n",
       " 'adaptable',\n",
       " 'resilient',\n",
       " 'progressive',\n",
       " 'forward-thinking',\n",
       " 'transformative',\n",
       " 'pioneering',\n",
       " 'trailblazing',\n",
       " 'groundbreaking',\n",
       " 'cutting-edge',\n",
       " 'leading',\n",
       " 'influential',\n",
       " 'impactful',\n",
       " 'empowered',\n",
       " 'energized',\n",
       " 'driven',\n",
       " 'focused',\n",
       " 'dedicated',\n",
       " 'committed',\n",
       " 'passionate',\n",
       " 'enthusiastic',\n",
       " 'motivated',\n",
       " 'inspired',\n",
       " 'engaged',\n",
       " 'collaborative',\n",
       " 'inclusive',\n",
       " 'supportive',\n",
       " 'authentic',\n",
       " 'sustainable',\n",
       " 'immersive',\n",
       " 'vibrant',\n",
       " 'fun-loving',\n",
       " 'adventurous',\n",
       " 'dedicated',\n",
       " 'skilled',\n",
       " 'trustworthy',\n",
       " 'open-minded',\n",
       " 'creative',\n",
       " 'ambitious',\n",
       " 'empowering',\n",
       " 'impactful',\n",
       " 'enriching',\n",
       " 'uplifting',\n",
       " 'transformational',\n",
       " 'holistic',\n",
       " 'experiential',\n",
       " 'fostering',\n",
       " 'nurturing']"
      ]
     },
     "execution_count": 4,
     "metadata": {},
     "output_type": "execute_result"
    }
   ],
   "source": [
    "\n",
    "\n",
    "def generate_better_values_list(file):\n",
    "    #loading json list to use as entiies\n",
    "    original_entity_list = load_json_file(file)\n",
    "    \n",
    "    # creating list that would consist of different version of entity to \n",
    "    # cover all cases that could possibly refer to that entity  \n",
    "    updated_entity_list = []\n",
    "    for value in original_entity_list:\n",
    "        value = value.strip()\n",
    "        updated_entity_list.append(value.lower())\n",
    "\n",
    "    print(f'original entity list: {len(original_entity_list)}')\n",
    "    print(f'updated list: {len(updated_entity_list)}')\n",
    "    # could be more for loops here to add to better value list\n",
    "    return updated_entity_list\n",
    "\n",
    "generate_better_values_list(json_list_file_path)\n"
   ]
  },
  {
   "cell_type": "markdown",
   "metadata": {},
   "source": [
    "### creating a dictionary with a custom label and a list of generated values, for a Named Entity Recognition (NER) model.\n",
    "\n",
    "Provide the JSON file path and custom entity type label to the `create_training_data` function.   \n",
    "\n",
    "It processes the file and returns a list of dictionaries as training data."
   ]
  },
  {
   "cell_type": "code",
   "execution_count": 5,
   "metadata": {},
   "outputs": [
    {
     "name": "stdout",
     "output_type": "stream",
     "text": [
      "original entity list: 114\n",
      "updated list: 114\n"
     ]
    },
    {
     "data": {
      "text/plain": [
       "[{'label': 'INTRO_WORDS', 'pattern': 'strive'},\n",
       " {'label': 'INTRO_WORDS', 'pattern': 'dedicated'},\n",
       " {'label': 'INTRO_WORDS', 'pattern': 'focused'},\n",
       " {'label': 'INTRO_WORDS', 'pattern': 'passionate'},\n",
       " {'label': 'INTRO_WORDS', 'pattern': 'driven'},\n",
       " {'label': 'INTRO_WORDS', 'pattern': 'devoted'},\n",
       " {'label': 'INTRO_WORDS', 'pattern': 'committed'},\n",
       " {'label': 'INTRO_WORDS', 'pattern': 'enthusiastic'},\n",
       " {'label': 'INTRO_WORDS', 'pattern': 'determined'},\n",
       " {'label': 'INTRO_WORDS', 'pattern': 'aimed'},\n",
       " {'label': 'INTRO_WORDS', 'pattern': 'geared'},\n",
       " {'label': 'INTRO_WORDS', 'pattern': 'oriented'},\n",
       " {'label': 'INTRO_WORDS', 'pattern': 'centered'},\n",
       " {'label': 'INTRO_WORDS', 'pattern': 'aligned'},\n",
       " {'label': 'INTRO_WORDS', 'pattern': 'motivated'},\n",
       " {'label': 'INTRO_WORDS', 'pattern': 'inspired'},\n",
       " {'label': 'INTRO_WORDS', 'pattern': 'engaged'},\n",
       " {'label': 'INTRO_WORDS', 'pattern': 'invested'},\n",
       " {'label': 'INTRO_WORDS', 'pattern': 'pledged'},\n",
       " {'label': 'INTRO_WORDS', 'pattern': 'resolved'},\n",
       " {'label': 'INTRO_WORDS', 'pattern': 'intent'},\n",
       " {'label': 'INTRO_WORDS', 'pattern': 'concentrated'},\n",
       " {'label': 'INTRO_WORDS', 'pattern': 'targeted'},\n",
       " {'label': 'INTRO_WORDS', 'pattern': 'anchored'},\n",
       " {'label': 'INTRO_WORDS', 'pattern': 'rooted'},\n",
       " {'label': 'INTRO_WORDS', 'pattern': 'grounded'},\n",
       " {'label': 'INTRO_WORDS', 'pattern': 'founded'},\n",
       " {'label': 'INTRO_WORDS', 'pattern': 'established'},\n",
       " {'label': 'INTRO_WORDS', 'pattern': 'built'},\n",
       " {'label': 'INTRO_WORDS', 'pattern': 'designed'},\n",
       " {'label': 'INTRO_WORDS', 'pattern': 'craftedinnovative'},\n",
       " {'label': 'INTRO_WORDS', 'pattern': 'visionary'},\n",
       " {'label': 'INTRO_WORDS', 'pattern': 'proactive'},\n",
       " {'label': 'INTRO_WORDS', 'pattern': 'dynamic'},\n",
       " {'label': 'INTRO_WORDS', 'pattern': 'strategic'},\n",
       " {'label': 'INTRO_WORDS', 'pattern': 'resourceful'},\n",
       " {'label': 'INTRO_WORDS', 'pattern': 'versatile'},\n",
       " {'label': 'INTRO_WORDS', 'pattern': 'adaptable'},\n",
       " {'label': 'INTRO_WORDS', 'pattern': 'resilient'},\n",
       " {'label': 'INTRO_WORDS', 'pattern': 'progressive'},\n",
       " {'label': 'INTRO_WORDS', 'pattern': 'forward-thinking'},\n",
       " {'label': 'INTRO_WORDS', 'pattern': 'transformative'},\n",
       " {'label': 'INTRO_WORDS', 'pattern': 'pioneering'},\n",
       " {'label': 'INTRO_WORDS', 'pattern': 'trailblazing'},\n",
       " {'label': 'INTRO_WORDS', 'pattern': 'groundbreaking'},\n",
       " {'label': 'INTRO_WORDS', 'pattern': 'cutting-edge'},\n",
       " {'label': 'INTRO_WORDS', 'pattern': 'leading'},\n",
       " {'label': 'INTRO_WORDS', 'pattern': 'influential'},\n",
       " {'label': 'INTRO_WORDS', 'pattern': 'impactful'},\n",
       " {'label': 'INTRO_WORDS', 'pattern': 'empowered'},\n",
       " {'label': 'INTRO_WORDS', 'pattern': 'energized'},\n",
       " {'label': 'INTRO_WORDS', 'pattern': 'driven'},\n",
       " {'label': 'INTRO_WORDS', 'pattern': 'focused'},\n",
       " {'label': 'INTRO_WORDS', 'pattern': 'dedicated'},\n",
       " {'label': 'INTRO_WORDS', 'pattern': 'committed'},\n",
       " {'label': 'INTRO_WORDS', 'pattern': 'passionate'},\n",
       " {'label': 'INTRO_WORDS', 'pattern': 'enthusiastic'},\n",
       " {'label': 'INTRO_WORDS', 'pattern': 'motivated'},\n",
       " {'label': 'INTRO_WORDS', 'pattern': 'inspired'},\n",
       " {'label': 'INTRO_WORDS', 'pattern': 'engaged'},\n",
       " {'label': 'INTRO_WORDS', 'pattern': 'innovative'},\n",
       " {'label': 'INTRO_WORDS', 'pattern': 'visionary'},\n",
       " {'label': 'INTRO_WORDS', 'pattern': 'proactive'},\n",
       " {'label': 'INTRO_WORDS', 'pattern': 'dynamic'},\n",
       " {'label': 'INTRO_WORDS', 'pattern': 'strategic'},\n",
       " {'label': 'INTRO_WORDS', 'pattern': 'resourceful'},\n",
       " {'label': 'INTRO_WORDS', 'pattern': 'versatile'},\n",
       " {'label': 'INTRO_WORDS', 'pattern': 'adaptable'},\n",
       " {'label': 'INTRO_WORDS', 'pattern': 'resilient'},\n",
       " {'label': 'INTRO_WORDS', 'pattern': 'progressive'},\n",
       " {'label': 'INTRO_WORDS', 'pattern': 'forward-thinking'},\n",
       " {'label': 'INTRO_WORDS', 'pattern': 'transformative'},\n",
       " {'label': 'INTRO_WORDS', 'pattern': 'pioneering'},\n",
       " {'label': 'INTRO_WORDS', 'pattern': 'trailblazing'},\n",
       " {'label': 'INTRO_WORDS', 'pattern': 'groundbreaking'},\n",
       " {'label': 'INTRO_WORDS', 'pattern': 'cutting-edge'},\n",
       " {'label': 'INTRO_WORDS', 'pattern': 'leading'},\n",
       " {'label': 'INTRO_WORDS', 'pattern': 'influential'},\n",
       " {'label': 'INTRO_WORDS', 'pattern': 'impactful'},\n",
       " {'label': 'INTRO_WORDS', 'pattern': 'empowered'},\n",
       " {'label': 'INTRO_WORDS', 'pattern': 'energized'},\n",
       " {'label': 'INTRO_WORDS', 'pattern': 'driven'},\n",
       " {'label': 'INTRO_WORDS', 'pattern': 'focused'},\n",
       " {'label': 'INTRO_WORDS', 'pattern': 'dedicated'},\n",
       " {'label': 'INTRO_WORDS', 'pattern': 'committed'},\n",
       " {'label': 'INTRO_WORDS', 'pattern': 'passionate'},\n",
       " {'label': 'INTRO_WORDS', 'pattern': 'enthusiastic'},\n",
       " {'label': 'INTRO_WORDS', 'pattern': 'motivated'},\n",
       " {'label': 'INTRO_WORDS', 'pattern': 'inspired'},\n",
       " {'label': 'INTRO_WORDS', 'pattern': 'engaged'},\n",
       " {'label': 'INTRO_WORDS', 'pattern': 'collaborative'},\n",
       " {'label': 'INTRO_WORDS', 'pattern': 'inclusive'},\n",
       " {'label': 'INTRO_WORDS', 'pattern': 'supportive'},\n",
       " {'label': 'INTRO_WORDS', 'pattern': 'authentic'},\n",
       " {'label': 'INTRO_WORDS', 'pattern': 'sustainable'},\n",
       " {'label': 'INTRO_WORDS', 'pattern': 'immersive'},\n",
       " {'label': 'INTRO_WORDS', 'pattern': 'vibrant'},\n",
       " {'label': 'INTRO_WORDS', 'pattern': 'fun-loving'},\n",
       " {'label': 'INTRO_WORDS', 'pattern': 'adventurous'},\n",
       " {'label': 'INTRO_WORDS', 'pattern': 'dedicated'},\n",
       " {'label': 'INTRO_WORDS', 'pattern': 'skilled'},\n",
       " {'label': 'INTRO_WORDS', 'pattern': 'trustworthy'},\n",
       " {'label': 'INTRO_WORDS', 'pattern': 'open-minded'},\n",
       " {'label': 'INTRO_WORDS', 'pattern': 'creative'},\n",
       " {'label': 'INTRO_WORDS', 'pattern': 'ambitious'},\n",
       " {'label': 'INTRO_WORDS', 'pattern': 'empowering'},\n",
       " {'label': 'INTRO_WORDS', 'pattern': 'impactful'},\n",
       " {'label': 'INTRO_WORDS', 'pattern': 'enriching'},\n",
       " {'label': 'INTRO_WORDS', 'pattern': 'uplifting'},\n",
       " {'label': 'INTRO_WORDS', 'pattern': 'transformational'},\n",
       " {'label': 'INTRO_WORDS', 'pattern': 'holistic'},\n",
       " {'label': 'INTRO_WORDS', 'pattern': 'experiential'},\n",
       " {'label': 'INTRO_WORDS', 'pattern': 'fostering'},\n",
       " {'label': 'INTRO_WORDS', 'pattern': 'nurturing'}]"
      ]
     },
     "execution_count": 5,
     "metadata": {},
     "output_type": "execute_result"
    }
   ],
   "source": [
    "# custon description of your entity \n",
    "entity_type = 'INTRO_WORDS'\n",
    "#file path to json list with sample list of etities \n",
    "file = json_list_file_path\n",
    "\n",
    "#creating dictonary with custon label and generated value list from cell 1\n",
    "def create_training_data(file,entity_type):\n",
    "    # update value list \n",
    "    better_values_list = generate_better_values_list(file)\n",
    "    # create dict for training data\n",
    "    training_data = []\n",
    "    for value in better_values_list:\n",
    "        training_data.append({\"label\": entity_type, \n",
    "                              \"pattern\": value})\n",
    "    return training_data\n",
    "\n",
    "create_training_data(file,entity_type)\n"
   ]
  },
  {
   "cell_type": "markdown",
   "metadata": {},
   "source": [
    "# Create ruler/ner model custom function \n",
    "\n",
    "The `generate_ruler` function is designed to create a custom pipeline component (such as an entity ruler) in a blank SpaCy model and save it to a specified file path. This function is useful for creating and saving custom Named Entity Recognition (NER) models or other pipeline components."
   ]
  },
  {
   "cell_type": "code",
   "execution_count": 6,
   "metadata": {},
   "outputs": [],
   "source": [
    "import spacy\n",
    "def generate_ruler(patterns,path_to_file,pipeline_name):\n",
    "    # creating a blank spacy model in english language \n",
    "    nlp = spacy.blank(\"en\")\n",
    "    # creating an empty pipline with custom name \n",
    "    ruler = nlp.add_pipe(pipeline_name)\n",
    "    #adding the previously created pattern to the empty pipline \n",
    "    ruler.add_patterns(patterns)\n",
    "    #save NER/entity ruler to local mashine \n",
    "    nlp.to_disk(path_to_file)"
   ]
  },
  {
   "cell_type": "markdown",
   "metadata": {},
   "source": [
    "## Creating and Saving a Custom NER/Entity Ruler Model\n",
    "\n",
    "This cell shows how to create and save a custom NER or entity ruler with the above functions.\n",
    "\n",
    "- defining the file path, \n",
    "- creating directories, \n",
    "- generating training data\n",
    "- and saving the model.\n"
   ]
  },
  {
   "cell_type": "code",
   "execution_count": 7,
   "metadata": {},
   "outputs": [
    {
     "name": "stdout",
     "output_type": "stream",
     "text": [
      "original entity list: 114\n",
      "updated list: 114\n"
     ]
    },
    {
     "name": "stdout",
     "output_type": "stream",
     "text": [
      "new pipleine name: entity_ruler\n",
      "filename: intro_words_ner\n",
      "patternexample: [{'label': 'INTRO_WORDS', 'pattern': 'strive'}, {'label': 'INTRO_WORDS', 'pattern': 'dedicated'}, {'label': 'INTRO_WORDS', 'pattern': 'focused'}]\n",
      "file path to ner: /Users/macbookair/Documents/Python/Surf_jobs/spacy/custom_pipelines_NER_entityruler/intro_words_ner\n"
     ]
    }
   ],
   "source": [
    "import os \n",
    "\n",
    "# creating directory and filename to save nlp model\n",
    "# filename in directory \n",
    "file_name= 'intro_words_ner'\n",
    "# directory where to save the new created NER/entity ruler\n",
    "file_path_unordered_text = '/Users/macbookair/Documents/Python/Surf_jobs/spacy/custom_pipelines_NER_entityruler'    \n",
    "path_to_file = os.path.join(file_path_unordered_text,file_name)\n",
    "os.makedirs(file_path_unordered_text, exist_ok=True)\n",
    "\n",
    "\n",
    "# custom name for NER/entity ruler in the newly created nlp \n",
    "pipeline_name = 'entity_ruler'\n",
    "# execute code to create ner\n",
    "patterns = create_training_data(file,entity_type)\n",
    "generate_ruler(patterns,path_to_file,pipeline_name)\n",
    "\n",
    "\n",
    "#printing final result\n",
    "print(f'new pipleine name: {pipeline_name}')\n",
    "print(f'filename: {file_name}')\n",
    "print(f'patternexample: {patterns[:3]}')\n",
    "print(f'file path to ner: {path_to_file}')\n"
   ]
  },
  {
   "cell_type": "markdown",
   "metadata": {},
   "source": [
    "# clean text that will be used for training \n",
    "this text will be used to find the entities that have been input as the a list earlier    \n",
    "it can be paragraph as it is now  \n",
    "\n",
    "possible changes:  \n",
    "I should maybe change to a nlp() doc object to separate in sentences"
   ]
  },
  {
   "cell_type": "code",
   "execution_count": 8,
   "metadata": {},
   "outputs": [
    {
     "name": "stdout",
     "output_type": "stream",
     "text": [
      "welcome to azure surf retreat, where the oceans rhythm sets the pace for your adventure. our retreat is designed to offer a harmonious blend of surfing excitement and serene relaxation. whether youre a novice or an experienced surfer, our expert instructors are dedicated to helping you achieve your surfing aspirations. our mission is to create a memorable experience that enhances your skills and rejuvenates your spirit.\n",
      "at bluewave eco surf camp, we are committed to environmental sustainability and the preservation of our beautiful coastal surroundings. we incorporate ecofriendly practices into every aspect of our retreat, from using renewable energy sources to organizing beach conservation projects. our aim is to inspire our guests to embrace sustainable living and join us in protecting the ocean for future generations.\n",
      "serenity surf yoga retreat offers a unique fusion of surfing and yoga to promote holistic wellbeing. our retreat focuses on the balance between the physical challenges of surfing and the calming benefits of yoga. daily yoga sessions are designed to enhance your surfing experience, helping you achieve strength, flexibility, and inner peace. we invite you to disconnect from the daily grind and reconnect with yourself in our tranquil environment.\n",
      "at coastal harmony surf camp, community and connection are at the heart of our philosophy. we strive to create an inclusive and welcoming atmosphere where everyone feels valued and supported. our guests come from all walks of life, and we celebrate the diversity and unique perspectives each person brings. whether youre here for a short getaway or an extended retreat, youll leave with new friendships and lasting memories.\n",
      "tideriders surf camp is driven by a deep passion for the ocean and the sport of surfing. our dedicated team is committed to providing exceptional instruction and personalized coaching to help you reach your full potential. we believe that surfing is more than just a sport its a lifestyle that brings joy, confidence, and a deeper connection to nature. join us at tideriders and embark on a journey of selfdiscovery and adventure.\n",
      "welcome to sunset surf sanctuary, where the golden sands meet the rolling waves. our retreat is designed to offer a perfect blend of adventure and relaxation. whether youre catching your first wave or perfecting your technique, our skilled instructors are here to support you. our mission is to provide a transformative experience that enhances your surfing skills and nurtures your spirit.\n",
      "at greenwave eco retreat, we are passionate about sustainability and preserving the natural beauty of our coastal environment. we integrate ecofriendly practices into our daily operations, from using biodegradable products to organizing community beach cleanups. our goal is to inspire our guests to adopt sustainable habits and join us in protecting our precious marine ecosystems.\n",
      "harmony surf yoga retreat offers a unique combination of surfing and yoga to promote overall wellbeing. our retreat focuses on the synergy between the physical demands of surfing and the calming effects of yoga. daily yoga sessions are tailored to complement your surfing experience, helping you achieve balance, strength, and inner peace. we invite you to disconnect from the hustle and bustle of everyday life and reconnect with yourself in our serene setting.\n",
      "at surf haven retreat, community and connection are at the core of what we do. we strive to create a welcoming and inclusive environment where everyone feels at home. our guests come from diverse backgrounds, and we celebrate the unique stories and experiences each person brings. whether youre here for a short stay or an extended retreat, youll leave with new friendships and unforgettable memories.\n",
      "wavequest surf camp is driven by a deep love for the ocean and the sport of surfing. our dedicated team is committed to providing topnotch instruction and personalized coaching to help you reach your surfing goals. we believe that surfing is more than just a sport its a lifestyle that fosters joy, confidence, and a profound connection to nature. join us at wavequest and embark on a journey of selfdiscovery and adventure.\n",
      "welcome to ocean bliss surf retreat, where adventure meets tranquility. nestled along pristine coastlines, our camp offers a unique blend of surfing, relaxation, and personal growth. whether youre a seasoned surfer or a complete beginner, our experienced instructors are here to guide you every step of the way. our mission is to create an unforgettable experience that not only hones your surfing skills but also rejuvenates your mind and body.\n",
      "at ecowave surf camp, we are deeply committed to sustainability and environmental stewardship. we believe in protecting the ocean and its ecosystems, which is why we incorporate ecofriendly practices into every aspect of our operations. from using sustainable materials to organizing beach cleanups, we strive to minimize our environmental footprint and inspire our guests to do the same. join us in our efforts to preserve the beauty of our natural surroundings for future generations.\n",
      "our holistic approach to wellness sets zensurf retreat apart. we combine the physical challenge of surfing with the mental and spiritual benefits of yoga, offering a comprehensive retreat experience. our daily yoga sessions are designed to complement your surfing practice, helping you find balance, flexibility, and inner peace. we aim to create a space where you can disconnect from the stresses of everyday life and reconnect with yourself and nature.\n",
      "community and camaraderie are at the heart of waveriders surf camp. we pride ourselves on fostering a welcoming and inclusive atmosphere where everyone feels valued and supported. our guests come from all walks of life, and we celebrate the diversity and unique perspectives each person brings. whether youre here for a week or a month, youll leave with new friends and cherished memories.\n",
      "our passion for surfing drives everything we do at surfsoul retreat. we are dedicated to providing highquality instruction and personalized coaching to help you reach your full potential. surfing is more than just a sport to us its a way of life that brings joy, confidence, and a deeper connection to the natural world. come ride the waves with us and discover the transformative power of the ocean.\n",
      "our mission is to provide an unforgettable surfing experience that combines adventure, relaxation, and personal growth. we aim to create a supportive and inclusive environment where surfers of all levels can improve their skills, connect with nature, and build lasting friendships.\n",
      "at our surf camp, we value sustainability and environmental stewardship. we are committed to protecting the ocean and its ecosystems by promoting ecofriendly practices and educating our guests on the importance of marine conservation. our goal is to leave a positive impact on the environment and inspire others to do the same.\n",
      "we believe in the transformative power of surfing and yoga. our retreat offers a holistic approach to wellness, combining the physical challenge of surfing with the mental and spiritual benefits of yoga. we strive to create a space where individuals can find balance, rejuvenate their minds and bodies, and return home feeling refreshed and empowered.\n",
      "our surf camp is dedicated to fostering a sense of community and camaraderie. we prioritize creating a welcoming and inclusive atmosphere where everyone feels valued and supported. whether you are a beginner or an experienced surfer, we are here to help you achieve your goals and make the most of your time with us.\n",
      "we are passionate about sharing the joy of surfing with others. our mission is to provide highquality instruction and personalized coaching to help each guest reach their full potential. we believe that surfing is not just a sport, but a way of life that can bring happiness, confidence, and a deeper connection to the natural world.\n",
      "at freshsurf, we are dedicated to enhancing your surfing experience by offering not just surf lessons but a holistic approach to learning. we value the importance of individual feedback, ensuring that our instructors provide honest and constructive critiques to help you improve. our commitment to your growth extends beyond the water, as we also offer alternative training opportunities like yoga and crosstraining to enhance your skills and fitness.\n",
      "little surf co. prides itself on creating a nurturing and inclusive environment where every child can thrive. our core value is to foster a love for the ocean and surfing while ensuring safety and fun. we believe that learning should be an enjoyable experience, and we strive to instill confidence in our young surfers through supportive coaching and engaging activities.\n",
      "rapture surfcamps values the connections formed during our camps. we believe that the friendships you make while surfing are just as important as the skills you develop. our mission is to create memorable experiences that last a lifetime, emphasizing community, adventure, and the joy of surfing in stunning locations around the world.\n",
      "at fca surf, we are committed to environmental stewardship and teaching our campers about the importance of ocean conservation. our values center around respect for nature and the community, ensuring that our surfers not only learn to ride waves but also understand their role in protecting the ocean for future generations. we aim to inspire a sense of responsibility and connection to the environment in every participant.\n",
      "at surf station, our mission is to share our surfing expertise so that anyone, novice or expert, can have a highquality surfing experience. we are committed to conducting our business with integrity, ensuring that we always lend a helping hand to those in need while fostering a love for surfing within our community.\n",
      "the coachella valley surf club aims to unite novice and lifelong surfers, creating a supportive community where friendships can flourish. our mission is to promote the love of surfing through organized events, competitions, and outings to coastal surf spots, encouraging participation and camaraderie among members.\n",
      "wb surf camp is dedicated to providing the safest and most enjoyable surfing programs for all. our mission is to foster a love for surfing while emphasizing safety, etiquette, and environmental stewardship. we strive to create a supportive learning environment where every camper can thrive and develop their skills.\n",
      "our mission at summertime surf is to provide the ultimate environment for teaching and learning the practices and values of the surf and ocean lifestyle. we are committed to promoting healthy living through surfing, inspiring the next generation of surfers, and practicing environmental responsibility.\n",
      "fca surfs mission is to provide a transformative surfing experience that combines skill development with spiritual growth. we aim to teach young surfers not only how to ride waves but also to appreciate the ocean and the values of respect and community, all while having fun in a safe environment.\n",
      "these mission statements emphasize various aspects of surf camps, including community building, safety, environmental awareness, and personal growth, allowing you to tailor your own statement to reflect your camps unique ethos and objectives.\n",
      "at our surf camp, we believe in fostering a deep connection with nature. every surf session is a chance to reconnect with the oceans rhythms, and our ecofriendly practices ensure we leave a positive impact on the environment. from organic meals to beach cleanups, we aim to inspire a lifestyle of respect for the planet.\n",
      "surfing with us is more than just a sport its a lifestyle. were passionate about cultivating a supportive atmosphere where each wave is a shared victory. with experienced instructors guiding your progress and a community that celebrates every achievement, youll feel empowered to push your boundaries both on the board and in life.\n",
      "we believe in balance between the thrill of surfing and the peace found in stillness. our wellness programs include sunrise yoga and mindful meditation sessions, helping you center yourself before hitting the waves. our aim is to create a space where you can not only improve your surf skills but also nurture your inner wellbeing.\n",
      "our camp is built on a foundation of sustainability, adventure, and community. we work closely with local artisans and farmers to provide an authentic cultural experience, and every part of our surf retreat is designed with the environment in mind. here, you can surf in pristine waters while making a positive impact on the world around you.\n",
      "the sea has taught us many lessons, and we strive to pass those on to every surfer who joins us. we embrace diversity and welcome people of all backgrounds to share in the joy of surfing. together, we build confidence, challenge ourselves, and celebrate the beauty of the ocean as a universal language.\n",
      "our mission is simple to create an unforgettable surf experience where growth, connection, and adventure come together. whether youre a beginner or a seasoned surfer, our passionate instructors and warm community will support you in reaching new heights, both in your surfing and personal journey.\n",
      "community is at the heart of our surf school. from shared meals after a day in the water to bonfires under the stars, we foster a sense of belonging that goes beyond just surfing. youll leave not only with new skills but also with lasting friendships and memories that reflect the spirit of the ocean.\n",
      "we believe that surfing is a way of life, one that teaches patience, resilience, and harmony with nature. every wave carries the lessons of the ocean, and we are here to guide you through those experiences, fostering personal growth as you deepen your connection to the sea.\n",
      "at our surf retreat, we prioritize harmony with nature. each surf session is an opportunity to sync with the oceans pulse, and our sustainable practices ensure we contribute positively to the environment. from farmtotable meals to coastal conservation efforts, we strive to inspire a lifestyle that honors the earth.\n",
      "surfing with us transcends the sport its a way of life. we are dedicated to fostering a nurturing environment where every wave is a shared triumph. with seasoned instructors to guide your journey and a community that celebrates each milestone, youll feel motivated to challenge yourself both on the board and in your daily life.\n",
      "we embrace the balance between the exhilaration of surfing and the tranquility of mindfulness. our wellness offerings include dawn yoga and guided meditation, helping you find your center before you ride the waves. our goal is to create a sanctuary where you can enhance your surfing skills while also nurturing your inner peace.\n",
      "our surf camp is rooted in sustainability, adventure, and community. we collaborate with local craftsmen and farmers to deliver an authentic cultural experience, and every aspect of our retreat is designed with environmental consciousness. here, you can surf in untouched waters while making a positive impact on the surrounding ecosystem.\n",
      "surfing is not just an activity its a way of life that brings us together. our camp creates a nurturing environment where every participant is encouraged to celebrate their progress and share their stories. with expert instructors and a vibrant community, youll find the motivation to explore your limits and embrace the joy of surfing.\n",
      "our philosophy centers on the balance between adventure and mindfulness. we offer daily yoga sessions and guided meditation to help you connect with your inner self before you hit the waves. this holistic approach ensures that you not only enhance your surfing skills but also cultivate mental clarity and emotional wellbeing.\n",
      "at our surf camp, we are dedicated to creating a positive impact on the planet. we collaborate with local communities to promote cultural exchange and environmental stewardship. each surf session is an opportunity to enjoy pristine beaches while actively participating in initiatives that protect our natural surroundings.\n",
      "the ocean teaches us invaluable lessons about resilience and unity. we welcome surfers from all walks of life, fostering a sense of belonging and mutual respect. together, we learn, grow, and celebrate the diverse tapestry of experiences that surfing brings, reinforcing our shared commitment to the ocean.\n",
      "our goal is to offer an enriching surf experience that intertwines personal development with community spirit. whether you are just starting your surfing journey or looking to refine your skills, our supportive environment and passionate team will guide you towards achieving your goals both in surfing and in life. these examples highlight the essence of surfing as a lifestyle that embodies respect for nature, community engagement, and personal growth, resonating with the themes of the original text.\n",
      "at our surf camp, we integrate meditation into our daily routines, recognizing that both surfing and mindfulness share a common goal achieving a state of flow and presence. each surf session is not just about riding waves its an opportunity to immerse yourself in the moment, letting go of distractions and embracing the tranquility of the ocean. we encourage our surfers to take a few moments before hitting the water to breathe deeply and center themselves, fostering a deeper connection with both the waves and their inner selves.\n",
      "surfing is inherently meditative, providing a unique blend of physical activity and mental clarity. as you paddle out and wait for the perfect wave, you enter a state of mindfulness, where the sounds of the ocean and the rhythm of your breath align. our programs emphasize this connection, offering guided meditation sessions that prepare your mind and body for the exhilarating experience of surfing. by cultivating this awareness, you can enhance your performance on the board while also nurturing your emotional wellbeing.\n",
      "our philosophy is rooted in the belief that meditation and surfing are two sides of the same coin. both practices require focus, patience, and an appreciation for the present moment. we incorporate mindfulness exercises into our surf lessons, encouraging participants to tune into their bodies and the environment around them. this approach not only improves surfing skills but also fosters a sense of peace and connection with nature that extends beyond the beach.\n",
      "embracing the meditative aspects of surfing allows us to connect more deeply with the ocean and ourselves. each wave offers a chance to practice letting goof fear, stress, and distractions. our camp includes mindfulness workshops that teach surfers how to harness the calming effects of meditation, helping them to ride the waves with greater confidence and clarity. this synergy between surfing and meditation cultivates a holistic experience that promotes wellbeing both on and off the board.\n",
      "at our retreat, we believe that the ocean is a natural sanctuary for meditation. the act of surfing can be a form of mindfulness practice, where you learn to be fully present and engaged with the water. we guide our participants through meditation techniques that enhance their surfing experience, teaching them to listen to their bodies and the waves. this connection not only improves their surfing abilities but also fosters a profound sense of peace and harmony with the environment. these examples illustrate how meditation and surfing can work together to create a transformative experience, emphasizing mindfulness, emotional balance, and a deeper connection to nature.\n",
      "at our surf camp, we integrate meditation into our daily routines, recognizing that both surfing and mindfulness share a common goal achieving a state of flow and presence. each surf session is not just about riding waves its an opportunity to immerse yourself in the moment, letting go of distractions and embracing the tranquility of the ocean. we encourage our surfers to take a few moments before hitting the water to breathe deeply and center themselves, fostering a deeper connection with both the waves and their inner selves.\n",
      "surfing is inherently meditative, providing a unique blend of physical activity and mental clarity. as you paddle out and wait for the perfect wave, you enter a state of mindfulness, where the sounds of the ocean and the rhythm of your breath align. our programs emphasize this connection, offering guided meditation sessions that prepare your mind and body for the exhilarating experience of surfing. by cultivating this awareness, you can enhance your performance on the board while also nurturing your emotional wellbeing.\n",
      "our philosophy is rooted in the belief that meditation and surfing are two sides of the same coin. both practices require focus, patience, and an appreciation for the present moment. we incorporate mindfulness exercises into our surf lessons, encouraging participants to tune into their bodies and the environment around them. this approach not only improves surfing skills but also fosters a sense of peace and connection with nature that extends beyond the beach.\n",
      "embracing the meditative aspects of surfing allows us to connect more deeply with the ocean and ourselves. each wave offers a chance to practice letting goof fear, stress, and distractions. our camp includes mindfulness workshops that teach surfers how to harness the calming effects of meditation, helping them to ride the waves with greater confidence and clarity. this synergy between surfing and meditation cultivates a holistic experience that promotes wellbeing both on and off the board.\n",
      "at our retreat, we believe that the ocean is a natural sanctuary for meditation. the act of surfing can be a form of mindfulness practice, where you learn to be fully present and engaged with the water. we guide our participants through meditation techniques that enhance their surfing experience, teaching them to listen to their bodies and the waves. this connection not only improves their surfing abilities but also fosters a profound sense of peace and harmony with the environment. these examples illustrate how meditation and surfing can work together to create a transformative experience, emphasizing mindfulness, emotional balance, and a deeper connection to nature.\n"
     ]
    }
   ],
   "source": [
    "\n",
    "import re \n",
    "\n",
    "def split_text_into_segments(text):\n",
    "    # Split the text into segments wherever a line break occurs\n",
    "    segments = text.split('\\n')\n",
    "    # Remove empty segments\n",
    "    segments = [segment.strip() for segment in segments if segment.strip()]\n",
    "    return segments\n",
    "\n",
    "def clean_text(text):\n",
    "    # Remove unwanted characters but keep common punctuation\n",
    "    text = re.sub(r'[^\\w\\s.,!?]', '', text)\n",
    "    # Convert text to lowercase\n",
    "    text = text.lower()\n",
    "    # Replace line breaks and asterisks with spaces\n",
    "    text = text.replace('\\n', ' ').replace('\\r', ' ').replace('*', '')\n",
    "    # Remove extra whitespace\n",
    "    text = re.sub(r'\\s+', ' ', text).strip()\n",
    "    return text\n",
    "\n",
    "\n",
    "# Define the file path\n",
    "# Original file path\n",
    "file_path_unordered_text = '/Users/macbookair/Documents/Python/Surf_jobs/spacy/training_ML_model/training_data/training_text.txt'\n",
    "# Split the file path into the base path and the extension\n",
    "base_path, _ = os.path.splitext(file_path_unordered_text)\n",
    "# Create the new file path with the .json extension\n",
    "file_path_json = base_path +'_cleaned'+ '.json'\n",
    "\n",
    "# load unordered text \n",
    "text = load_text_file(file_path_unordered_text)\n",
    "\n",
    "#splitting text into segmenst \n",
    "segments = split_text_into_segments(text)\n",
    "cleaned_segments = []\n",
    "for segment in segments:\n",
    "    if len(segment) > 70:\n",
    "        cleaned_segments.append(clean_text(segment))\n",
    "\n",
    "for print_segment in cleaned_segments:\n",
    "    print(print_segment)\n",
    "\n",
    "# save cleaned segments\n",
    "save_json_file(file_path_json,cleaned_segments)\n"
   ]
  },
  {
   "cell_type": "markdown",
   "metadata": {},
   "source": [
    "### Test NER (Named Entity recognision) model\n",
    "- visualise the test for better understadining and adjusments \n",
    "- prep and adjust for traing process\n",
    "- repeat until satisfied with resuts"
   ]
  },
  {
   "cell_type": "code",
   "execution_count": 10,
   "metadata": {},
   "outputs": [
    {
     "name": "stdout",
     "output_type": "stream",
     "text": [
      "pipeline_names: ['entity_ruler']\n",
      "\n"
     ]
    },
    {
     "data": {
      "text/html": [
       "<span class=\"tex2jax_ignore\"><div class=\"entities\" style=\"line-height: 2.5; direction: ltr\">welcome to azure surf retreat, where the oceans rhythm sets the pace for your adventure. our retreat is \n",
       "<mark class=\"entity\" style=\"background: #ddd; padding: 0.45em 0.6em; margin: 0 0.25em; line-height: 1; border-radius: 0.35em;\">\n",
       "    designed\n",
       "    <span style=\"font-size: 0.8em; font-weight: bold; line-height: 1; border-radius: 0.35em; vertical-align: middle; margin-left: 0.5rem\">INTRO_WORDS</span>\n",
       "</mark>\n",
       " to offer a harmonious blend of surfing excitement and serene relaxation. whether youre a novice or an experienced surfer, our expert instructors are \n",
       "<mark class=\"entity\" style=\"background: #ddd; padding: 0.45em 0.6em; margin: 0 0.25em; line-height: 1; border-radius: 0.35em;\">\n",
       "    dedicated\n",
       "    <span style=\"font-size: 0.8em; font-weight: bold; line-height: 1; border-radius: 0.35em; vertical-align: middle; margin-left: 0.5rem\">INTRO_WORDS</span>\n",
       "</mark>\n",
       " to helping you achieve your surfing aspirations. our mission is to create a memorable experience that enhances your skills and rejuvenates your spirit.</div></span>"
      ],
      "text/plain": [
       "<IPython.core.display.HTML object>"
      ]
     },
     "metadata": {},
     "output_type": "display_data"
    },
    {
     "name": "stdout",
     "output_type": "stream",
     "text": [
      "designed INTRO_WORDS\n",
      "dedicated INTRO_WORDS\n"
     ]
    },
    {
     "data": {
      "text/html": [
       "<span class=\"tex2jax_ignore\"><div class=\"entities\" style=\"line-height: 2.5; direction: ltr\">at bluewave eco surf camp, we are \n",
       "<mark class=\"entity\" style=\"background: #ddd; padding: 0.45em 0.6em; margin: 0 0.25em; line-height: 1; border-radius: 0.35em;\">\n",
       "    committed\n",
       "    <span style=\"font-size: 0.8em; font-weight: bold; line-height: 1; border-radius: 0.35em; vertical-align: middle; margin-left: 0.5rem\">INTRO_WORDS</span>\n",
       "</mark>\n",
       " to environmental sustainability and the preservation of our beautiful coastal surroundings. we incorporate ecofriendly practices into every aspect of our retreat, from using renewable energy sources to organizing beach conservation projects. our aim is to inspire our guests to embrace \n",
       "<mark class=\"entity\" style=\"background: #ddd; padding: 0.45em 0.6em; margin: 0 0.25em; line-height: 1; border-radius: 0.35em;\">\n",
       "    sustainable\n",
       "    <span style=\"font-size: 0.8em; font-weight: bold; line-height: 1; border-radius: 0.35em; vertical-align: middle; margin-left: 0.5rem\">INTRO_WORDS</span>\n",
       "</mark>\n",
       " living and join us in protecting the ocean for future generations.</div></span>"
      ],
      "text/plain": [
       "<IPython.core.display.HTML object>"
      ]
     },
     "metadata": {},
     "output_type": "display_data"
    },
    {
     "name": "stdout",
     "output_type": "stream",
     "text": [
      "committed INTRO_WORDS\n",
      "sustainable INTRO_WORDS\n"
     ]
    },
    {
     "data": {
      "text/html": [
       "<span class=\"tex2jax_ignore\"><div class=\"entities\" style=\"line-height: 2.5; direction: ltr\">serenity surf yoga retreat offers a unique fusion of surfing and yoga to promote \n",
       "<mark class=\"entity\" style=\"background: #ddd; padding: 0.45em 0.6em; margin: 0 0.25em; line-height: 1; border-radius: 0.35em;\">\n",
       "    holistic\n",
       "    <span style=\"font-size: 0.8em; font-weight: bold; line-height: 1; border-radius: 0.35em; vertical-align: middle; margin-left: 0.5rem\">INTRO_WORDS</span>\n",
       "</mark>\n",
       " wellbeing. our retreat focuses on the balance between the physical challenges of surfing and the calming benefits of yoga. daily yoga sessions are \n",
       "<mark class=\"entity\" style=\"background: #ddd; padding: 0.45em 0.6em; margin: 0 0.25em; line-height: 1; border-radius: 0.35em;\">\n",
       "    designed\n",
       "    <span style=\"font-size: 0.8em; font-weight: bold; line-height: 1; border-radius: 0.35em; vertical-align: middle; margin-left: 0.5rem\">INTRO_WORDS</span>\n",
       "</mark>\n",
       " to enhance your surfing experience, helping you achieve strength, flexibility, and inner peace. we invite you to disconnect from the daily grind and reconnect with yourself in our tranquil environment.</div></span>"
      ],
      "text/plain": [
       "<IPython.core.display.HTML object>"
      ]
     },
     "metadata": {},
     "output_type": "display_data"
    },
    {
     "name": "stdout",
     "output_type": "stream",
     "text": [
      "holistic INTRO_WORDS\n",
      "designed INTRO_WORDS\n"
     ]
    },
    {
     "data": {
      "text/html": [
       "<span class=\"tex2jax_ignore\"><div class=\"entities\" style=\"line-height: 2.5; direction: ltr\">at coastal harmony surf camp, community and connection are at the heart of our philosophy. we \n",
       "<mark class=\"entity\" style=\"background: #ddd; padding: 0.45em 0.6em; margin: 0 0.25em; line-height: 1; border-radius: 0.35em;\">\n",
       "    strive\n",
       "    <span style=\"font-size: 0.8em; font-weight: bold; line-height: 1; border-radius: 0.35em; vertical-align: middle; margin-left: 0.5rem\">INTRO_WORDS</span>\n",
       "</mark>\n",
       " to create an \n",
       "<mark class=\"entity\" style=\"background: #ddd; padding: 0.45em 0.6em; margin: 0 0.25em; line-height: 1; border-radius: 0.35em;\">\n",
       "    inclusive\n",
       "    <span style=\"font-size: 0.8em; font-weight: bold; line-height: 1; border-radius: 0.35em; vertical-align: middle; margin-left: 0.5rem\">INTRO_WORDS</span>\n",
       "</mark>\n",
       " and welcoming atmosphere where everyone feels valued and supported. our guests come from all walks of life, and we celebrate the diversity and unique perspectives each person brings. whether youre here for a short getaway or an extended retreat, youll leave with new friendships and lasting memories.</div></span>"
      ],
      "text/plain": [
       "<IPython.core.display.HTML object>"
      ]
     },
     "metadata": {},
     "output_type": "display_data"
    },
    {
     "name": "stdout",
     "output_type": "stream",
     "text": [
      "strive INTRO_WORDS\n",
      "inclusive INTRO_WORDS\n"
     ]
    },
    {
     "data": {
      "text/html": [
       "<span class=\"tex2jax_ignore\"><div class=\"entities\" style=\"line-height: 2.5; direction: ltr\">tideriders surf camp is \n",
       "<mark class=\"entity\" style=\"background: #ddd; padding: 0.45em 0.6em; margin: 0 0.25em; line-height: 1; border-radius: 0.35em;\">\n",
       "    driven\n",
       "    <span style=\"font-size: 0.8em; font-weight: bold; line-height: 1; border-radius: 0.35em; vertical-align: middle; margin-left: 0.5rem\">INTRO_WORDS</span>\n",
       "</mark>\n",
       " by a deep passion for the ocean and the sport of surfing. our \n",
       "<mark class=\"entity\" style=\"background: #ddd; padding: 0.45em 0.6em; margin: 0 0.25em; line-height: 1; border-radius: 0.35em;\">\n",
       "    dedicated\n",
       "    <span style=\"font-size: 0.8em; font-weight: bold; line-height: 1; border-radius: 0.35em; vertical-align: middle; margin-left: 0.5rem\">INTRO_WORDS</span>\n",
       "</mark>\n",
       " team is \n",
       "<mark class=\"entity\" style=\"background: #ddd; padding: 0.45em 0.6em; margin: 0 0.25em; line-height: 1; border-radius: 0.35em;\">\n",
       "    committed\n",
       "    <span style=\"font-size: 0.8em; font-weight: bold; line-height: 1; border-radius: 0.35em; vertical-align: middle; margin-left: 0.5rem\">INTRO_WORDS</span>\n",
       "</mark>\n",
       " to providing exceptional instruction and personalized coaching to help you reach your full potential. we believe that surfing is more than just a sport its a lifestyle that brings joy, confidence, and a deeper connection to nature. join us at tideriders and embark on a journey of selfdiscovery and adventure.</div></span>"
      ],
      "text/plain": [
       "<IPython.core.display.HTML object>"
      ]
     },
     "metadata": {},
     "output_type": "display_data"
    },
    {
     "name": "stdout",
     "output_type": "stream",
     "text": [
      "driven INTRO_WORDS\n",
      "dedicated INTRO_WORDS\n",
      "committed INTRO_WORDS\n"
     ]
    },
    {
     "data": {
      "text/html": [
       "<span class=\"tex2jax_ignore\"><div class=\"entities\" style=\"line-height: 2.5; direction: ltr\">welcome to sunset surf sanctuary, where the golden sands meet the rolling waves. our retreat is \n",
       "<mark class=\"entity\" style=\"background: #ddd; padding: 0.45em 0.6em; margin: 0 0.25em; line-height: 1; border-radius: 0.35em;\">\n",
       "    designed\n",
       "    <span style=\"font-size: 0.8em; font-weight: bold; line-height: 1; border-radius: 0.35em; vertical-align: middle; margin-left: 0.5rem\">INTRO_WORDS</span>\n",
       "</mark>\n",
       " to offer a perfect blend of adventure and relaxation. whether youre catching your first wave or perfecting your technique, our \n",
       "<mark class=\"entity\" style=\"background: #ddd; padding: 0.45em 0.6em; margin: 0 0.25em; line-height: 1; border-radius: 0.35em;\">\n",
       "    skilled\n",
       "    <span style=\"font-size: 0.8em; font-weight: bold; line-height: 1; border-radius: 0.35em; vertical-align: middle; margin-left: 0.5rem\">INTRO_WORDS</span>\n",
       "</mark>\n",
       " instructors are here to support you. our mission is to provide a \n",
       "<mark class=\"entity\" style=\"background: #ddd; padding: 0.45em 0.6em; margin: 0 0.25em; line-height: 1; border-radius: 0.35em;\">\n",
       "    transformative\n",
       "    <span style=\"font-size: 0.8em; font-weight: bold; line-height: 1; border-radius: 0.35em; vertical-align: middle; margin-left: 0.5rem\">INTRO_WORDS</span>\n",
       "</mark>\n",
       " experience that enhances your surfing skills and nurtures your spirit.</div></span>"
      ],
      "text/plain": [
       "<IPython.core.display.HTML object>"
      ]
     },
     "metadata": {},
     "output_type": "display_data"
    },
    {
     "name": "stdout",
     "output_type": "stream",
     "text": [
      "designed INTRO_WORDS\n",
      "skilled INTRO_WORDS\n",
      "transformative INTRO_WORDS\n"
     ]
    },
    {
     "data": {
      "text/html": [
       "<span class=\"tex2jax_ignore\"><div class=\"entities\" style=\"line-height: 2.5; direction: ltr\">at greenwave eco retreat, we are \n",
       "<mark class=\"entity\" style=\"background: #ddd; padding: 0.45em 0.6em; margin: 0 0.25em; line-height: 1; border-radius: 0.35em;\">\n",
       "    passionate\n",
       "    <span style=\"font-size: 0.8em; font-weight: bold; line-height: 1; border-radius: 0.35em; vertical-align: middle; margin-left: 0.5rem\">INTRO_WORDS</span>\n",
       "</mark>\n",
       " about sustainability and preserving the natural beauty of our coastal environment. we integrate ecofriendly practices into our daily operations, from using biodegradable products to organizing community beach cleanups. our goal is to inspire our guests to adopt \n",
       "<mark class=\"entity\" style=\"background: #ddd; padding: 0.45em 0.6em; margin: 0 0.25em; line-height: 1; border-radius: 0.35em;\">\n",
       "    sustainable\n",
       "    <span style=\"font-size: 0.8em; font-weight: bold; line-height: 1; border-radius: 0.35em; vertical-align: middle; margin-left: 0.5rem\">INTRO_WORDS</span>\n",
       "</mark>\n",
       " habits and join us in protecting our precious marine ecosystems.</div></span>"
      ],
      "text/plain": [
       "<IPython.core.display.HTML object>"
      ]
     },
     "metadata": {},
     "output_type": "display_data"
    },
    {
     "name": "stdout",
     "output_type": "stream",
     "text": [
      "passionate INTRO_WORDS\n",
      "sustainable INTRO_WORDS\n"
     ]
    },
    {
     "name": "stderr",
     "output_type": "stream",
     "text": [
      "/Users/macbookair/Documents/Python/Surf_jobs/venv/lib/python3.10/site-packages/spacy/displacy/__init__.py:213: UserWarning: [W006] No entities to visualize found in Doc object. If this is surprising to you, make sure the Doc was processed using a model that supports named entity recognition, and check the `doc.ents` property manually if necessary.\n",
      "  warnings.warn(Warnings.W006)\n"
     ]
    },
    {
     "data": {
      "text/html": [
       "<span class=\"tex2jax_ignore\"><div class=\"entities\" style=\"line-height: 2.5; direction: ltr\">harmony surf yoga retreat offers a unique combination of surfing and yoga to promote overall wellbeing. our retreat focuses on the synergy between the physical demands of surfing and the calming effects of yoga. daily yoga sessions are tailored to complement your surfing experience, helping you achieve balance, strength, and inner peace. we invite you to disconnect from the hustle and bustle of everyday life and reconnect with yourself in our serene setting.</div></span>"
      ],
      "text/plain": [
       "<IPython.core.display.HTML object>"
      ]
     },
     "metadata": {},
     "output_type": "display_data"
    },
    {
     "data": {
      "text/html": [
       "<span class=\"tex2jax_ignore\"><div class=\"entities\" style=\"line-height: 2.5; direction: ltr\">at surf haven retreat, community and connection are at the core of what we do. we \n",
       "<mark class=\"entity\" style=\"background: #ddd; padding: 0.45em 0.6em; margin: 0 0.25em; line-height: 1; border-radius: 0.35em;\">\n",
       "    strive\n",
       "    <span style=\"font-size: 0.8em; font-weight: bold; line-height: 1; border-radius: 0.35em; vertical-align: middle; margin-left: 0.5rem\">INTRO_WORDS</span>\n",
       "</mark>\n",
       " to create a welcoming and \n",
       "<mark class=\"entity\" style=\"background: #ddd; padding: 0.45em 0.6em; margin: 0 0.25em; line-height: 1; border-radius: 0.35em;\">\n",
       "    inclusive\n",
       "    <span style=\"font-size: 0.8em; font-weight: bold; line-height: 1; border-radius: 0.35em; vertical-align: middle; margin-left: 0.5rem\">INTRO_WORDS</span>\n",
       "</mark>\n",
       " environment where everyone feels at home. our guests come from diverse backgrounds, and we celebrate the unique stories and experiences each person brings. whether youre here for a short stay or an extended retreat, youll leave with new friendships and unforgettable memories.</div></span>"
      ],
      "text/plain": [
       "<IPython.core.display.HTML object>"
      ]
     },
     "metadata": {},
     "output_type": "display_data"
    },
    {
     "name": "stdout",
     "output_type": "stream",
     "text": [
      "strive INTRO_WORDS\n",
      "inclusive INTRO_WORDS\n"
     ]
    },
    {
     "data": {
      "text/html": [
       "<span class=\"tex2jax_ignore\"><div class=\"entities\" style=\"line-height: 2.5; direction: ltr\">wavequest surf camp is \n",
       "<mark class=\"entity\" style=\"background: #ddd; padding: 0.45em 0.6em; margin: 0 0.25em; line-height: 1; border-radius: 0.35em;\">\n",
       "    driven\n",
       "    <span style=\"font-size: 0.8em; font-weight: bold; line-height: 1; border-radius: 0.35em; vertical-align: middle; margin-left: 0.5rem\">INTRO_WORDS</span>\n",
       "</mark>\n",
       " by a deep love for the ocean and the sport of surfing. our \n",
       "<mark class=\"entity\" style=\"background: #ddd; padding: 0.45em 0.6em; margin: 0 0.25em; line-height: 1; border-radius: 0.35em;\">\n",
       "    dedicated\n",
       "    <span style=\"font-size: 0.8em; font-weight: bold; line-height: 1; border-radius: 0.35em; vertical-align: middle; margin-left: 0.5rem\">INTRO_WORDS</span>\n",
       "</mark>\n",
       " team is \n",
       "<mark class=\"entity\" style=\"background: #ddd; padding: 0.45em 0.6em; margin: 0 0.25em; line-height: 1; border-radius: 0.35em;\">\n",
       "    committed\n",
       "    <span style=\"font-size: 0.8em; font-weight: bold; line-height: 1; border-radius: 0.35em; vertical-align: middle; margin-left: 0.5rem\">INTRO_WORDS</span>\n",
       "</mark>\n",
       " to providing topnotch instruction and personalized coaching to help you reach your surfing goals. we believe that surfing is more than just a sport its a lifestyle that fosters joy, confidence, and a profound connection to nature. join us at wavequest and embark on a journey of selfdiscovery and adventure.</div></span>"
      ],
      "text/plain": [
       "<IPython.core.display.HTML object>"
      ]
     },
     "metadata": {},
     "output_type": "display_data"
    },
    {
     "name": "stdout",
     "output_type": "stream",
     "text": [
      "driven INTRO_WORDS\n",
      "dedicated INTRO_WORDS\n",
      "committed INTRO_WORDS\n"
     ]
    },
    {
     "name": "stderr",
     "output_type": "stream",
     "text": [
      "/Users/macbookair/Documents/Python/Surf_jobs/venv/lib/python3.10/site-packages/spacy/displacy/__init__.py:213: UserWarning: [W006] No entities to visualize found in Doc object. If this is surprising to you, make sure the Doc was processed using a model that supports named entity recognition, and check the `doc.ents` property manually if necessary.\n",
      "  warnings.warn(Warnings.W006)\n"
     ]
    },
    {
     "data": {
      "text/html": [
       "<span class=\"tex2jax_ignore\"><div class=\"entities\" style=\"line-height: 2.5; direction: ltr\">welcome to ocean bliss surf retreat, where adventure meets tranquility. nestled along pristine coastlines, our camp offers a unique blend of surfing, relaxation, and personal growth. whether youre a seasoned surfer or a complete beginner, our experienced instructors are here to guide you every step of the way. our mission is to create an unforgettable experience that not only hones your surfing skills but also rejuvenates your mind and body.</div></span>"
      ],
      "text/plain": [
       "<IPython.core.display.HTML object>"
      ]
     },
     "metadata": {},
     "output_type": "display_data"
    },
    {
     "data": {
      "text/html": [
       "<span class=\"tex2jax_ignore\"><div class=\"entities\" style=\"line-height: 2.5; direction: ltr\">at ecowave surf camp, we are deeply \n",
       "<mark class=\"entity\" style=\"background: #ddd; padding: 0.45em 0.6em; margin: 0 0.25em; line-height: 1; border-radius: 0.35em;\">\n",
       "    committed\n",
       "    <span style=\"font-size: 0.8em; font-weight: bold; line-height: 1; border-radius: 0.35em; vertical-align: middle; margin-left: 0.5rem\">INTRO_WORDS</span>\n",
       "</mark>\n",
       " to sustainability and environmental stewardship. we believe in protecting the ocean and its ecosystems, which is why we incorporate ecofriendly practices into every aspect of our operations. from using \n",
       "<mark class=\"entity\" style=\"background: #ddd; padding: 0.45em 0.6em; margin: 0 0.25em; line-height: 1; border-radius: 0.35em;\">\n",
       "    sustainable\n",
       "    <span style=\"font-size: 0.8em; font-weight: bold; line-height: 1; border-radius: 0.35em; vertical-align: middle; margin-left: 0.5rem\">INTRO_WORDS</span>\n",
       "</mark>\n",
       " materials to organizing beach cleanups, we \n",
       "<mark class=\"entity\" style=\"background: #ddd; padding: 0.45em 0.6em; margin: 0 0.25em; line-height: 1; border-radius: 0.35em;\">\n",
       "    strive\n",
       "    <span style=\"font-size: 0.8em; font-weight: bold; line-height: 1; border-radius: 0.35em; vertical-align: middle; margin-left: 0.5rem\">INTRO_WORDS</span>\n",
       "</mark>\n",
       " to minimize our environmental footprint and inspire our guests to do the same. join us in our efforts to preserve the beauty of our natural surroundings for future generations.</div></span>"
      ],
      "text/plain": [
       "<IPython.core.display.HTML object>"
      ]
     },
     "metadata": {},
     "output_type": "display_data"
    },
    {
     "name": "stdout",
     "output_type": "stream",
     "text": [
      "committed INTRO_WORDS\n",
      "sustainable INTRO_WORDS\n",
      "strive INTRO_WORDS\n"
     ]
    },
    {
     "data": {
      "text/html": [
       "<span class=\"tex2jax_ignore\"><div class=\"entities\" style=\"line-height: 2.5; direction: ltr\">our \n",
       "<mark class=\"entity\" style=\"background: #ddd; padding: 0.45em 0.6em; margin: 0 0.25em; line-height: 1; border-radius: 0.35em;\">\n",
       "    holistic\n",
       "    <span style=\"font-size: 0.8em; font-weight: bold; line-height: 1; border-radius: 0.35em; vertical-align: middle; margin-left: 0.5rem\">INTRO_WORDS</span>\n",
       "</mark>\n",
       " approach to wellness sets zensurf retreat apart. we combine the physical challenge of surfing with the mental and spiritual benefits of yoga, offering a comprehensive retreat experience. our daily yoga sessions are \n",
       "<mark class=\"entity\" style=\"background: #ddd; padding: 0.45em 0.6em; margin: 0 0.25em; line-height: 1; border-radius: 0.35em;\">\n",
       "    designed\n",
       "    <span style=\"font-size: 0.8em; font-weight: bold; line-height: 1; border-radius: 0.35em; vertical-align: middle; margin-left: 0.5rem\">INTRO_WORDS</span>\n",
       "</mark>\n",
       " to complement your surfing practice, helping you find balance, flexibility, and inner peace. we aim to create a space where you can disconnect from the stresses of everyday life and reconnect with yourself and nature.</div></span>"
      ],
      "text/plain": [
       "<IPython.core.display.HTML object>"
      ]
     },
     "metadata": {},
     "output_type": "display_data"
    },
    {
     "name": "stdout",
     "output_type": "stream",
     "text": [
      "holistic INTRO_WORDS\n",
      "designed INTRO_WORDS\n"
     ]
    },
    {
     "data": {
      "text/html": [
       "<span class=\"tex2jax_ignore\"><div class=\"entities\" style=\"line-height: 2.5; direction: ltr\">community and camaraderie are at the heart of waveriders surf camp. we pride ourselves on \n",
       "<mark class=\"entity\" style=\"background: #ddd; padding: 0.45em 0.6em; margin: 0 0.25em; line-height: 1; border-radius: 0.35em;\">\n",
       "    fostering\n",
       "    <span style=\"font-size: 0.8em; font-weight: bold; line-height: 1; border-radius: 0.35em; vertical-align: middle; margin-left: 0.5rem\">INTRO_WORDS</span>\n",
       "</mark>\n",
       " a welcoming and \n",
       "<mark class=\"entity\" style=\"background: #ddd; padding: 0.45em 0.6em; margin: 0 0.25em; line-height: 1; border-radius: 0.35em;\">\n",
       "    inclusive\n",
       "    <span style=\"font-size: 0.8em; font-weight: bold; line-height: 1; border-radius: 0.35em; vertical-align: middle; margin-left: 0.5rem\">INTRO_WORDS</span>\n",
       "</mark>\n",
       " atmosphere where everyone feels valued and supported. our guests come from all walks of life, and we celebrate the diversity and unique perspectives each person brings. whether youre here for a week or a month, youll leave with new friends and cherished memories.</div></span>"
      ],
      "text/plain": [
       "<IPython.core.display.HTML object>"
      ]
     },
     "metadata": {},
     "output_type": "display_data"
    },
    {
     "name": "stdout",
     "output_type": "stream",
     "text": [
      "fostering INTRO_WORDS\n",
      "inclusive INTRO_WORDS\n"
     ]
    },
    {
     "data": {
      "text/html": [
       "<span class=\"tex2jax_ignore\"><div class=\"entities\" style=\"line-height: 2.5; direction: ltr\">our passion for surfing drives everything we do at surfsoul retreat. we are \n",
       "<mark class=\"entity\" style=\"background: #ddd; padding: 0.45em 0.6em; margin: 0 0.25em; line-height: 1; border-radius: 0.35em;\">\n",
       "    dedicated\n",
       "    <span style=\"font-size: 0.8em; font-weight: bold; line-height: 1; border-radius: 0.35em; vertical-align: middle; margin-left: 0.5rem\">INTRO_WORDS</span>\n",
       "</mark>\n",
       " to providing highquality instruction and personalized coaching to help you reach your full potential. surfing is more than just a sport to us its a way of life that brings joy, confidence, and a deeper connection to the natural world. come ride the waves with us and discover the \n",
       "<mark class=\"entity\" style=\"background: #ddd; padding: 0.45em 0.6em; margin: 0 0.25em; line-height: 1; border-radius: 0.35em;\">\n",
       "    transformative\n",
       "    <span style=\"font-size: 0.8em; font-weight: bold; line-height: 1; border-radius: 0.35em; vertical-align: middle; margin-left: 0.5rem\">INTRO_WORDS</span>\n",
       "</mark>\n",
       " power of the ocean.</div></span>"
      ],
      "text/plain": [
       "<IPython.core.display.HTML object>"
      ]
     },
     "metadata": {},
     "output_type": "display_data"
    },
    {
     "name": "stdout",
     "output_type": "stream",
     "text": [
      "dedicated INTRO_WORDS\n",
      "transformative INTRO_WORDS\n"
     ]
    },
    {
     "data": {
      "text/html": [
       "<span class=\"tex2jax_ignore\"><div class=\"entities\" style=\"line-height: 2.5; direction: ltr\">our mission is to provide an unforgettable surfing experience that combines adventure, relaxation, and personal growth. we aim to create a \n",
       "<mark class=\"entity\" style=\"background: #ddd; padding: 0.45em 0.6em; margin: 0 0.25em; line-height: 1; border-radius: 0.35em;\">\n",
       "    supportive\n",
       "    <span style=\"font-size: 0.8em; font-weight: bold; line-height: 1; border-radius: 0.35em; vertical-align: middle; margin-left: 0.5rem\">INTRO_WORDS</span>\n",
       "</mark>\n",
       " and \n",
       "<mark class=\"entity\" style=\"background: #ddd; padding: 0.45em 0.6em; margin: 0 0.25em; line-height: 1; border-radius: 0.35em;\">\n",
       "    inclusive\n",
       "    <span style=\"font-size: 0.8em; font-weight: bold; line-height: 1; border-radius: 0.35em; vertical-align: middle; margin-left: 0.5rem\">INTRO_WORDS</span>\n",
       "</mark>\n",
       " environment where surfers of all levels can improve their skills, connect with nature, and build lasting friendships.</div></span>"
      ],
      "text/plain": [
       "<IPython.core.display.HTML object>"
      ]
     },
     "metadata": {},
     "output_type": "display_data"
    },
    {
     "name": "stdout",
     "output_type": "stream",
     "text": [
      "supportive INTRO_WORDS\n",
      "inclusive INTRO_WORDS\n"
     ]
    },
    {
     "data": {
      "text/html": [
       "<span class=\"tex2jax_ignore\"><div class=\"entities\" style=\"line-height: 2.5; direction: ltr\">at our surf camp, we value sustainability and environmental stewardship. we are \n",
       "<mark class=\"entity\" style=\"background: #ddd; padding: 0.45em 0.6em; margin: 0 0.25em; line-height: 1; border-radius: 0.35em;\">\n",
       "    committed\n",
       "    <span style=\"font-size: 0.8em; font-weight: bold; line-height: 1; border-radius: 0.35em; vertical-align: middle; margin-left: 0.5rem\">INTRO_WORDS</span>\n",
       "</mark>\n",
       " to protecting the ocean and its ecosystems by promoting ecofriendly practices and educating our guests on the importance of marine conservation. our goal is to leave a positive impact on the environment and inspire others to do the same.</div></span>"
      ],
      "text/plain": [
       "<IPython.core.display.HTML object>"
      ]
     },
     "metadata": {},
     "output_type": "display_data"
    },
    {
     "name": "stdout",
     "output_type": "stream",
     "text": [
      "committed INTRO_WORDS\n"
     ]
    },
    {
     "data": {
      "text/html": [
       "<span class=\"tex2jax_ignore\"><div class=\"entities\" style=\"line-height: 2.5; direction: ltr\">we believe in the \n",
       "<mark class=\"entity\" style=\"background: #ddd; padding: 0.45em 0.6em; margin: 0 0.25em; line-height: 1; border-radius: 0.35em;\">\n",
       "    transformative\n",
       "    <span style=\"font-size: 0.8em; font-weight: bold; line-height: 1; border-radius: 0.35em; vertical-align: middle; margin-left: 0.5rem\">INTRO_WORDS</span>\n",
       "</mark>\n",
       " power of surfing and yoga. our retreat offers a \n",
       "<mark class=\"entity\" style=\"background: #ddd; padding: 0.45em 0.6em; margin: 0 0.25em; line-height: 1; border-radius: 0.35em;\">\n",
       "    holistic\n",
       "    <span style=\"font-size: 0.8em; font-weight: bold; line-height: 1; border-radius: 0.35em; vertical-align: middle; margin-left: 0.5rem\">INTRO_WORDS</span>\n",
       "</mark>\n",
       " approach to wellness, combining the physical challenge of surfing with the mental and spiritual benefits of yoga. we \n",
       "<mark class=\"entity\" style=\"background: #ddd; padding: 0.45em 0.6em; margin: 0 0.25em; line-height: 1; border-radius: 0.35em;\">\n",
       "    strive\n",
       "    <span style=\"font-size: 0.8em; font-weight: bold; line-height: 1; border-radius: 0.35em; vertical-align: middle; margin-left: 0.5rem\">INTRO_WORDS</span>\n",
       "</mark>\n",
       " to create a space where individuals can find balance, rejuvenate their minds and bodies, and return home feeling refreshed and \n",
       "<mark class=\"entity\" style=\"background: #ddd; padding: 0.45em 0.6em; margin: 0 0.25em; line-height: 1; border-radius: 0.35em;\">\n",
       "    empowered\n",
       "    <span style=\"font-size: 0.8em; font-weight: bold; line-height: 1; border-radius: 0.35em; vertical-align: middle; margin-left: 0.5rem\">INTRO_WORDS</span>\n",
       "</mark>\n",
       ".</div></span>"
      ],
      "text/plain": [
       "<IPython.core.display.HTML object>"
      ]
     },
     "metadata": {},
     "output_type": "display_data"
    },
    {
     "name": "stdout",
     "output_type": "stream",
     "text": [
      "transformative INTRO_WORDS\n",
      "holistic INTRO_WORDS\n",
      "strive INTRO_WORDS\n",
      "empowered INTRO_WORDS\n"
     ]
    },
    {
     "data": {
      "text/html": [
       "<span class=\"tex2jax_ignore\"><div class=\"entities\" style=\"line-height: 2.5; direction: ltr\">our surf camp is \n",
       "<mark class=\"entity\" style=\"background: #ddd; padding: 0.45em 0.6em; margin: 0 0.25em; line-height: 1; border-radius: 0.35em;\">\n",
       "    dedicated\n",
       "    <span style=\"font-size: 0.8em; font-weight: bold; line-height: 1; border-radius: 0.35em; vertical-align: middle; margin-left: 0.5rem\">INTRO_WORDS</span>\n",
       "</mark>\n",
       " to \n",
       "<mark class=\"entity\" style=\"background: #ddd; padding: 0.45em 0.6em; margin: 0 0.25em; line-height: 1; border-radius: 0.35em;\">\n",
       "    fostering\n",
       "    <span style=\"font-size: 0.8em; font-weight: bold; line-height: 1; border-radius: 0.35em; vertical-align: middle; margin-left: 0.5rem\">INTRO_WORDS</span>\n",
       "</mark>\n",
       " a sense of community and camaraderie. we prioritize creating a welcoming and \n",
       "<mark class=\"entity\" style=\"background: #ddd; padding: 0.45em 0.6em; margin: 0 0.25em; line-height: 1; border-radius: 0.35em;\">\n",
       "    inclusive\n",
       "    <span style=\"font-size: 0.8em; font-weight: bold; line-height: 1; border-radius: 0.35em; vertical-align: middle; margin-left: 0.5rem\">INTRO_WORDS</span>\n",
       "</mark>\n",
       " atmosphere where everyone feels valued and supported. whether you are a beginner or an experienced surfer, we are here to help you achieve your goals and make the most of your time with us.</div></span>"
      ],
      "text/plain": [
       "<IPython.core.display.HTML object>"
      ]
     },
     "metadata": {},
     "output_type": "display_data"
    },
    {
     "name": "stdout",
     "output_type": "stream",
     "text": [
      "dedicated INTRO_WORDS\n",
      "fostering INTRO_WORDS\n",
      "inclusive INTRO_WORDS\n"
     ]
    },
    {
     "data": {
      "text/html": [
       "<span class=\"tex2jax_ignore\"><div class=\"entities\" style=\"line-height: 2.5; direction: ltr\">we are \n",
       "<mark class=\"entity\" style=\"background: #ddd; padding: 0.45em 0.6em; margin: 0 0.25em; line-height: 1; border-radius: 0.35em;\">\n",
       "    passionate\n",
       "    <span style=\"font-size: 0.8em; font-weight: bold; line-height: 1; border-radius: 0.35em; vertical-align: middle; margin-left: 0.5rem\">INTRO_WORDS</span>\n",
       "</mark>\n",
       " about sharing the joy of surfing with others. our mission is to provide highquality instruction and personalized coaching to help each guest reach their full potential. we believe that surfing is not just a sport, but a way of life that can bring happiness, confidence, and a deeper connection to the natural world.</div></span>"
      ],
      "text/plain": [
       "<IPython.core.display.HTML object>"
      ]
     },
     "metadata": {},
     "output_type": "display_data"
    },
    {
     "name": "stdout",
     "output_type": "stream",
     "text": [
      "passionate INTRO_WORDS\n"
     ]
    },
    {
     "data": {
      "text/html": [
       "<span class=\"tex2jax_ignore\"><div class=\"entities\" style=\"line-height: 2.5; direction: ltr\">at freshsurf, we are \n",
       "<mark class=\"entity\" style=\"background: #ddd; padding: 0.45em 0.6em; margin: 0 0.25em; line-height: 1; border-radius: 0.35em;\">\n",
       "    dedicated\n",
       "    <span style=\"font-size: 0.8em; font-weight: bold; line-height: 1; border-radius: 0.35em; vertical-align: middle; margin-left: 0.5rem\">INTRO_WORDS</span>\n",
       "</mark>\n",
       " to enhancing your surfing experience by offering not just surf lessons but a \n",
       "<mark class=\"entity\" style=\"background: #ddd; padding: 0.45em 0.6em; margin: 0 0.25em; line-height: 1; border-radius: 0.35em;\">\n",
       "    holistic\n",
       "    <span style=\"font-size: 0.8em; font-weight: bold; line-height: 1; border-radius: 0.35em; vertical-align: middle; margin-left: 0.5rem\">INTRO_WORDS</span>\n",
       "</mark>\n",
       " approach to learning. we value the importance of individual feedback, ensuring that our instructors provide honest and constructive critiques to help you improve. our commitment to your growth extends beyond the water, as we also offer alternative training opportunities like yoga and crosstraining to enhance your skills and fitness.</div></span>"
      ],
      "text/plain": [
       "<IPython.core.display.HTML object>"
      ]
     },
     "metadata": {},
     "output_type": "display_data"
    },
    {
     "name": "stdout",
     "output_type": "stream",
     "text": [
      "dedicated INTRO_WORDS\n",
      "holistic INTRO_WORDS\n"
     ]
    },
    {
     "data": {
      "text/html": [
       "<span class=\"tex2jax_ignore\"><div class=\"entities\" style=\"line-height: 2.5; direction: ltr\">little surf co. prides itself on creating a \n",
       "<mark class=\"entity\" style=\"background: #ddd; padding: 0.45em 0.6em; margin: 0 0.25em; line-height: 1; border-radius: 0.35em;\">\n",
       "    nurturing\n",
       "    <span style=\"font-size: 0.8em; font-weight: bold; line-height: 1; border-radius: 0.35em; vertical-align: middle; margin-left: 0.5rem\">INTRO_WORDS</span>\n",
       "</mark>\n",
       " and \n",
       "<mark class=\"entity\" style=\"background: #ddd; padding: 0.45em 0.6em; margin: 0 0.25em; line-height: 1; border-radius: 0.35em;\">\n",
       "    inclusive\n",
       "    <span style=\"font-size: 0.8em; font-weight: bold; line-height: 1; border-radius: 0.35em; vertical-align: middle; margin-left: 0.5rem\">INTRO_WORDS</span>\n",
       "</mark>\n",
       " environment where every child can thrive. our core value is to foster a love for the ocean and surfing while ensuring safety and fun. we believe that learning should be an enjoyable experience, and we \n",
       "<mark class=\"entity\" style=\"background: #ddd; padding: 0.45em 0.6em; margin: 0 0.25em; line-height: 1; border-radius: 0.35em;\">\n",
       "    strive\n",
       "    <span style=\"font-size: 0.8em; font-weight: bold; line-height: 1; border-radius: 0.35em; vertical-align: middle; margin-left: 0.5rem\">INTRO_WORDS</span>\n",
       "</mark>\n",
       " to instill confidence in our young surfers through \n",
       "<mark class=\"entity\" style=\"background: #ddd; padding: 0.45em 0.6em; margin: 0 0.25em; line-height: 1; border-radius: 0.35em;\">\n",
       "    supportive\n",
       "    <span style=\"font-size: 0.8em; font-weight: bold; line-height: 1; border-radius: 0.35em; vertical-align: middle; margin-left: 0.5rem\">INTRO_WORDS</span>\n",
       "</mark>\n",
       " coaching and engaging activities.</div></span>"
      ],
      "text/plain": [
       "<IPython.core.display.HTML object>"
      ]
     },
     "metadata": {},
     "output_type": "display_data"
    },
    {
     "name": "stdout",
     "output_type": "stream",
     "text": [
      "nurturing INTRO_WORDS\n",
      "inclusive INTRO_WORDS\n",
      "strive INTRO_WORDS\n",
      "supportive INTRO_WORDS\n"
     ]
    },
    {
     "name": "stderr",
     "output_type": "stream",
     "text": [
      "/Users/macbookair/Documents/Python/Surf_jobs/venv/lib/python3.10/site-packages/spacy/displacy/__init__.py:213: UserWarning: [W006] No entities to visualize found in Doc object. If this is surprising to you, make sure the Doc was processed using a model that supports named entity recognition, and check the `doc.ents` property manually if necessary.\n",
      "  warnings.warn(Warnings.W006)\n"
     ]
    },
    {
     "data": {
      "text/html": [
       "<span class=\"tex2jax_ignore\"><div class=\"entities\" style=\"line-height: 2.5; direction: ltr\">rapture surfcamps values the connections formed during our camps. we believe that the friendships you make while surfing are just as important as the skills you develop. our mission is to create memorable experiences that last a lifetime, emphasizing community, adventure, and the joy of surfing in stunning locations around the world.</div></span>"
      ],
      "text/plain": [
       "<IPython.core.display.HTML object>"
      ]
     },
     "metadata": {},
     "output_type": "display_data"
    },
    {
     "data": {
      "text/html": [
       "<span class=\"tex2jax_ignore\"><div class=\"entities\" style=\"line-height: 2.5; direction: ltr\">at fca surf, we are \n",
       "<mark class=\"entity\" style=\"background: #ddd; padding: 0.45em 0.6em; margin: 0 0.25em; line-height: 1; border-radius: 0.35em;\">\n",
       "    committed\n",
       "    <span style=\"font-size: 0.8em; font-weight: bold; line-height: 1; border-radius: 0.35em; vertical-align: middle; margin-left: 0.5rem\">INTRO_WORDS</span>\n",
       "</mark>\n",
       " to environmental stewardship and teaching our campers about the importance of ocean conservation. our values center around respect for nature and the community, ensuring that our surfers not only learn to ride waves but also understand their role in protecting the ocean for future generations. we aim to inspire a sense of responsibility and connection to the environment in every participant.</div></span>"
      ],
      "text/plain": [
       "<IPython.core.display.HTML object>"
      ]
     },
     "metadata": {},
     "output_type": "display_data"
    },
    {
     "name": "stdout",
     "output_type": "stream",
     "text": [
      "committed INTRO_WORDS\n"
     ]
    },
    {
     "data": {
      "text/html": [
       "<span class=\"tex2jax_ignore\"><div class=\"entities\" style=\"line-height: 2.5; direction: ltr\">at surf station, our mission is to share our surfing expertise so that anyone, novice or expert, can have a highquality surfing experience. we are \n",
       "<mark class=\"entity\" style=\"background: #ddd; padding: 0.45em 0.6em; margin: 0 0.25em; line-height: 1; border-radius: 0.35em;\">\n",
       "    committed\n",
       "    <span style=\"font-size: 0.8em; font-weight: bold; line-height: 1; border-radius: 0.35em; vertical-align: middle; margin-left: 0.5rem\">INTRO_WORDS</span>\n",
       "</mark>\n",
       " to conducting our business with integrity, ensuring that we always lend a helping hand to those in need while \n",
       "<mark class=\"entity\" style=\"background: #ddd; padding: 0.45em 0.6em; margin: 0 0.25em; line-height: 1; border-radius: 0.35em;\">\n",
       "    fostering\n",
       "    <span style=\"font-size: 0.8em; font-weight: bold; line-height: 1; border-radius: 0.35em; vertical-align: middle; margin-left: 0.5rem\">INTRO_WORDS</span>\n",
       "</mark>\n",
       " a love for surfing within our community.</div></span>"
      ],
      "text/plain": [
       "<IPython.core.display.HTML object>"
      ]
     },
     "metadata": {},
     "output_type": "display_data"
    },
    {
     "name": "stdout",
     "output_type": "stream",
     "text": [
      "committed INTRO_WORDS\n",
      "fostering INTRO_WORDS\n"
     ]
    },
    {
     "data": {
      "text/html": [
       "<span class=\"tex2jax_ignore\"><div class=\"entities\" style=\"line-height: 2.5; direction: ltr\">the coachella valley surf club aims to unite novice and lifelong surfers, creating a \n",
       "<mark class=\"entity\" style=\"background: #ddd; padding: 0.45em 0.6em; margin: 0 0.25em; line-height: 1; border-radius: 0.35em;\">\n",
       "    supportive\n",
       "    <span style=\"font-size: 0.8em; font-weight: bold; line-height: 1; border-radius: 0.35em; vertical-align: middle; margin-left: 0.5rem\">INTRO_WORDS</span>\n",
       "</mark>\n",
       " community where friendships can flourish. our mission is to promote the love of surfing through organized events, competitions, and outings to coastal surf spots, encouraging participation and camaraderie among members.</div></span>"
      ],
      "text/plain": [
       "<IPython.core.display.HTML object>"
      ]
     },
     "metadata": {},
     "output_type": "display_data"
    },
    {
     "name": "stdout",
     "output_type": "stream",
     "text": [
      "supportive INTRO_WORDS\n"
     ]
    },
    {
     "data": {
      "text/html": [
       "<span class=\"tex2jax_ignore\"><div class=\"entities\" style=\"line-height: 2.5; direction: ltr\">wb surf camp is \n",
       "<mark class=\"entity\" style=\"background: #ddd; padding: 0.45em 0.6em; margin: 0 0.25em; line-height: 1; border-radius: 0.35em;\">\n",
       "    dedicated\n",
       "    <span style=\"font-size: 0.8em; font-weight: bold; line-height: 1; border-radius: 0.35em; vertical-align: middle; margin-left: 0.5rem\">INTRO_WORDS</span>\n",
       "</mark>\n",
       " to providing the safest and most enjoyable surfing programs for all. our mission is to foster a love for surfing while emphasizing safety, etiquette, and environmental stewardship. we \n",
       "<mark class=\"entity\" style=\"background: #ddd; padding: 0.45em 0.6em; margin: 0 0.25em; line-height: 1; border-radius: 0.35em;\">\n",
       "    strive\n",
       "    <span style=\"font-size: 0.8em; font-weight: bold; line-height: 1; border-radius: 0.35em; vertical-align: middle; margin-left: 0.5rem\">INTRO_WORDS</span>\n",
       "</mark>\n",
       " to create a \n",
       "<mark class=\"entity\" style=\"background: #ddd; padding: 0.45em 0.6em; margin: 0 0.25em; line-height: 1; border-radius: 0.35em;\">\n",
       "    supportive\n",
       "    <span style=\"font-size: 0.8em; font-weight: bold; line-height: 1; border-radius: 0.35em; vertical-align: middle; margin-left: 0.5rem\">INTRO_WORDS</span>\n",
       "</mark>\n",
       " learning environment where every camper can thrive and develop their skills.</div></span>"
      ],
      "text/plain": [
       "<IPython.core.display.HTML object>"
      ]
     },
     "metadata": {},
     "output_type": "display_data"
    },
    {
     "name": "stdout",
     "output_type": "stream",
     "text": [
      "dedicated INTRO_WORDS\n",
      "strive INTRO_WORDS\n",
      "supportive INTRO_WORDS\n"
     ]
    },
    {
     "data": {
      "text/html": [
       "<span class=\"tex2jax_ignore\"><div class=\"entities\" style=\"line-height: 2.5; direction: ltr\">our mission at summertime surf is to provide the ultimate environment for teaching and learning the practices and values of the surf and ocean lifestyle. we are \n",
       "<mark class=\"entity\" style=\"background: #ddd; padding: 0.45em 0.6em; margin: 0 0.25em; line-height: 1; border-radius: 0.35em;\">\n",
       "    committed\n",
       "    <span style=\"font-size: 0.8em; font-weight: bold; line-height: 1; border-radius: 0.35em; vertical-align: middle; margin-left: 0.5rem\">INTRO_WORDS</span>\n",
       "</mark>\n",
       " to promoting healthy living through surfing, inspiring the next generation of surfers, and practicing environmental responsibility.</div></span>"
      ],
      "text/plain": [
       "<IPython.core.display.HTML object>"
      ]
     },
     "metadata": {},
     "output_type": "display_data"
    },
    {
     "name": "stdout",
     "output_type": "stream",
     "text": [
      "committed INTRO_WORDS\n"
     ]
    },
    {
     "data": {
      "text/html": [
       "<span class=\"tex2jax_ignore\"><div class=\"entities\" style=\"line-height: 2.5; direction: ltr\">fca surfs mission is to provide a \n",
       "<mark class=\"entity\" style=\"background: #ddd; padding: 0.45em 0.6em; margin: 0 0.25em; line-height: 1; border-radius: 0.35em;\">\n",
       "    transformative\n",
       "    <span style=\"font-size: 0.8em; font-weight: bold; line-height: 1; border-radius: 0.35em; vertical-align: middle; margin-left: 0.5rem\">INTRO_WORDS</span>\n",
       "</mark>\n",
       " surfing experience that combines skill development with spiritual growth. we aim to teach young surfers not only how to ride waves but also to appreciate the ocean and the values of respect and community, all while having fun in a safe environment.</div></span>"
      ],
      "text/plain": [
       "<IPython.core.display.HTML object>"
      ]
     },
     "metadata": {},
     "output_type": "display_data"
    },
    {
     "name": "stdout",
     "output_type": "stream",
     "text": [
      "transformative INTRO_WORDS\n"
     ]
    },
    {
     "name": "stderr",
     "output_type": "stream",
     "text": [
      "/Users/macbookair/Documents/Python/Surf_jobs/venv/lib/python3.10/site-packages/spacy/displacy/__init__.py:213: UserWarning: [W006] No entities to visualize found in Doc object. If this is surprising to you, make sure the Doc was processed using a model that supports named entity recognition, and check the `doc.ents` property manually if necessary.\n",
      "  warnings.warn(Warnings.W006)\n"
     ]
    },
    {
     "data": {
      "text/html": [
       "<span class=\"tex2jax_ignore\"><div class=\"entities\" style=\"line-height: 2.5; direction: ltr\">these mission statements emphasize various aspects of surf camps, including community building, safety, environmental awareness, and personal growth, allowing you to tailor your own statement to reflect your camps unique ethos and objectives.</div></span>"
      ],
      "text/plain": [
       "<IPython.core.display.HTML object>"
      ]
     },
     "metadata": {},
     "output_type": "display_data"
    },
    {
     "data": {
      "text/html": [
       "<span class=\"tex2jax_ignore\"><div class=\"entities\" style=\"line-height: 2.5; direction: ltr\">at our surf camp, we believe in \n",
       "<mark class=\"entity\" style=\"background: #ddd; padding: 0.45em 0.6em; margin: 0 0.25em; line-height: 1; border-radius: 0.35em;\">\n",
       "    fostering\n",
       "    <span style=\"font-size: 0.8em; font-weight: bold; line-height: 1; border-radius: 0.35em; vertical-align: middle; margin-left: 0.5rem\">INTRO_WORDS</span>\n",
       "</mark>\n",
       " a deep connection with nature. every surf session is a chance to reconnect with the oceans rhythms, and our ecofriendly practices ensure we leave a positive impact on the environment. from organic meals to beach cleanups, we aim to inspire a lifestyle of respect for the planet.</div></span>"
      ],
      "text/plain": [
       "<IPython.core.display.HTML object>"
      ]
     },
     "metadata": {},
     "output_type": "display_data"
    },
    {
     "name": "stdout",
     "output_type": "stream",
     "text": [
      "fostering INTRO_WORDS\n"
     ]
    },
    {
     "data": {
      "text/html": [
       "<span class=\"tex2jax_ignore\"><div class=\"entities\" style=\"line-height: 2.5; direction: ltr\">surfing with us is more than just a sport its a lifestyle. were \n",
       "<mark class=\"entity\" style=\"background: #ddd; padding: 0.45em 0.6em; margin: 0 0.25em; line-height: 1; border-radius: 0.35em;\">\n",
       "    passionate\n",
       "    <span style=\"font-size: 0.8em; font-weight: bold; line-height: 1; border-radius: 0.35em; vertical-align: middle; margin-left: 0.5rem\">INTRO_WORDS</span>\n",
       "</mark>\n",
       " about cultivating a \n",
       "<mark class=\"entity\" style=\"background: #ddd; padding: 0.45em 0.6em; margin: 0 0.25em; line-height: 1; border-radius: 0.35em;\">\n",
       "    supportive\n",
       "    <span style=\"font-size: 0.8em; font-weight: bold; line-height: 1; border-radius: 0.35em; vertical-align: middle; margin-left: 0.5rem\">INTRO_WORDS</span>\n",
       "</mark>\n",
       " atmosphere where each wave is a shared victory. with experienced instructors guiding your progress and a community that celebrates every achievement, youll feel \n",
       "<mark class=\"entity\" style=\"background: #ddd; padding: 0.45em 0.6em; margin: 0 0.25em; line-height: 1; border-radius: 0.35em;\">\n",
       "    empowered\n",
       "    <span style=\"font-size: 0.8em; font-weight: bold; line-height: 1; border-radius: 0.35em; vertical-align: middle; margin-left: 0.5rem\">INTRO_WORDS</span>\n",
       "</mark>\n",
       " to push your boundaries both on the board and in life.</div></span>"
      ],
      "text/plain": [
       "<IPython.core.display.HTML object>"
      ]
     },
     "metadata": {},
     "output_type": "display_data"
    },
    {
     "name": "stdout",
     "output_type": "stream",
     "text": [
      "passionate INTRO_WORDS\n",
      "supportive INTRO_WORDS\n",
      "empowered INTRO_WORDS\n"
     ]
    },
    {
     "name": "stderr",
     "output_type": "stream",
     "text": [
      "/Users/macbookair/Documents/Python/Surf_jobs/venv/lib/python3.10/site-packages/spacy/displacy/__init__.py:213: UserWarning: [W006] No entities to visualize found in Doc object. If this is surprising to you, make sure the Doc was processed using a model that supports named entity recognition, and check the `doc.ents` property manually if necessary.\n",
      "  warnings.warn(Warnings.W006)\n"
     ]
    },
    {
     "data": {
      "text/html": [
       "<span class=\"tex2jax_ignore\"><div class=\"entities\" style=\"line-height: 2.5; direction: ltr\">we believe in balance between the thrill of surfing and the peace found in stillness. our wellness programs include sunrise yoga and mindful meditation sessions, helping you center yourself before hitting the waves. our aim is to create a space where you can not only improve your surf skills but also nurture your inner wellbeing.</div></span>"
      ],
      "text/plain": [
       "<IPython.core.display.HTML object>"
      ]
     },
     "metadata": {},
     "output_type": "display_data"
    },
    {
     "data": {
      "text/html": [
       "<span class=\"tex2jax_ignore\"><div class=\"entities\" style=\"line-height: 2.5; direction: ltr\">our camp is \n",
       "<mark class=\"entity\" style=\"background: #ddd; padding: 0.45em 0.6em; margin: 0 0.25em; line-height: 1; border-radius: 0.35em;\">\n",
       "    built\n",
       "    <span style=\"font-size: 0.8em; font-weight: bold; line-height: 1; border-radius: 0.35em; vertical-align: middle; margin-left: 0.5rem\">INTRO_WORDS</span>\n",
       "</mark>\n",
       " on a foundation of sustainability, adventure, and community. we work closely with local artisans and farmers to provide an \n",
       "<mark class=\"entity\" style=\"background: #ddd; padding: 0.45em 0.6em; margin: 0 0.25em; line-height: 1; border-radius: 0.35em;\">\n",
       "    authentic\n",
       "    <span style=\"font-size: 0.8em; font-weight: bold; line-height: 1; border-radius: 0.35em; vertical-align: middle; margin-left: 0.5rem\">INTRO_WORDS</span>\n",
       "</mark>\n",
       " cultural experience, and every part of our surf retreat is \n",
       "<mark class=\"entity\" style=\"background: #ddd; padding: 0.45em 0.6em; margin: 0 0.25em; line-height: 1; border-radius: 0.35em;\">\n",
       "    designed\n",
       "    <span style=\"font-size: 0.8em; font-weight: bold; line-height: 1; border-radius: 0.35em; vertical-align: middle; margin-left: 0.5rem\">INTRO_WORDS</span>\n",
       "</mark>\n",
       " with the environment in mind. here, you can surf in pristine waters while making a positive impact on the world around you.</div></span>"
      ],
      "text/plain": [
       "<IPython.core.display.HTML object>"
      ]
     },
     "metadata": {},
     "output_type": "display_data"
    },
    {
     "name": "stdout",
     "output_type": "stream",
     "text": [
      "built INTRO_WORDS\n",
      "authentic INTRO_WORDS\n",
      "designed INTRO_WORDS\n"
     ]
    },
    {
     "data": {
      "text/html": [
       "<span class=\"tex2jax_ignore\"><div class=\"entities\" style=\"line-height: 2.5; direction: ltr\">the sea has taught us many lessons, and we \n",
       "<mark class=\"entity\" style=\"background: #ddd; padding: 0.45em 0.6em; margin: 0 0.25em; line-height: 1; border-radius: 0.35em;\">\n",
       "    strive\n",
       "    <span style=\"font-size: 0.8em; font-weight: bold; line-height: 1; border-radius: 0.35em; vertical-align: middle; margin-left: 0.5rem\">INTRO_WORDS</span>\n",
       "</mark>\n",
       " to pass those on to every surfer who joins us. we embrace diversity and welcome people of all backgrounds to share in the joy of surfing. together, we build confidence, challenge ourselves, and celebrate the beauty of the ocean as a universal language.</div></span>"
      ],
      "text/plain": [
       "<IPython.core.display.HTML object>"
      ]
     },
     "metadata": {},
     "output_type": "display_data"
    },
    {
     "name": "stdout",
     "output_type": "stream",
     "text": [
      "strive INTRO_WORDS\n"
     ]
    },
    {
     "data": {
      "text/html": [
       "<span class=\"tex2jax_ignore\"><div class=\"entities\" style=\"line-height: 2.5; direction: ltr\">our mission is simple to create an unforgettable surf experience where growth, connection, and adventure come together. whether youre a beginner or a seasoned surfer, our \n",
       "<mark class=\"entity\" style=\"background: #ddd; padding: 0.45em 0.6em; margin: 0 0.25em; line-height: 1; border-radius: 0.35em;\">\n",
       "    passionate\n",
       "    <span style=\"font-size: 0.8em; font-weight: bold; line-height: 1; border-radius: 0.35em; vertical-align: middle; margin-left: 0.5rem\">INTRO_WORDS</span>\n",
       "</mark>\n",
       " instructors and warm community will support you in reaching new heights, both in your surfing and personal journey.</div></span>"
      ],
      "text/plain": [
       "<IPython.core.display.HTML object>"
      ]
     },
     "metadata": {},
     "output_type": "display_data"
    },
    {
     "name": "stdout",
     "output_type": "stream",
     "text": [
      "passionate INTRO_WORDS\n"
     ]
    },
    {
     "name": "stderr",
     "output_type": "stream",
     "text": [
      "/Users/macbookair/Documents/Python/Surf_jobs/venv/lib/python3.10/site-packages/spacy/displacy/__init__.py:213: UserWarning: [W006] No entities to visualize found in Doc object. If this is surprising to you, make sure the Doc was processed using a model that supports named entity recognition, and check the `doc.ents` property manually if necessary.\n",
      "  warnings.warn(Warnings.W006)\n"
     ]
    },
    {
     "data": {
      "text/html": [
       "<span class=\"tex2jax_ignore\"><div class=\"entities\" style=\"line-height: 2.5; direction: ltr\">community is at the heart of our surf school. from shared meals after a day in the water to bonfires under the stars, we foster a sense of belonging that goes beyond just surfing. youll leave not only with new skills but also with lasting friendships and memories that reflect the spirit of the ocean.</div></span>"
      ],
      "text/plain": [
       "<IPython.core.display.HTML object>"
      ]
     },
     "metadata": {},
     "output_type": "display_data"
    },
    {
     "data": {
      "text/html": [
       "<span class=\"tex2jax_ignore\"><div class=\"entities\" style=\"line-height: 2.5; direction: ltr\">we believe that surfing is a way of life, one that teaches patience, resilience, and harmony with nature. every wave carries the lessons of the ocean, and we are here to guide you through those experiences, \n",
       "<mark class=\"entity\" style=\"background: #ddd; padding: 0.45em 0.6em; margin: 0 0.25em; line-height: 1; border-radius: 0.35em;\">\n",
       "    fostering\n",
       "    <span style=\"font-size: 0.8em; font-weight: bold; line-height: 1; border-radius: 0.35em; vertical-align: middle; margin-left: 0.5rem\">INTRO_WORDS</span>\n",
       "</mark>\n",
       " personal growth as you deepen your connection to the sea.</div></span>"
      ],
      "text/plain": [
       "<IPython.core.display.HTML object>"
      ]
     },
     "metadata": {},
     "output_type": "display_data"
    },
    {
     "name": "stdout",
     "output_type": "stream",
     "text": [
      "fostering INTRO_WORDS\n"
     ]
    },
    {
     "data": {
      "text/html": [
       "<span class=\"tex2jax_ignore\"><div class=\"entities\" style=\"line-height: 2.5; direction: ltr\">at our surf retreat, we prioritize harmony with nature. each surf session is an opportunity to sync with the oceans pulse, and our \n",
       "<mark class=\"entity\" style=\"background: #ddd; padding: 0.45em 0.6em; margin: 0 0.25em; line-height: 1; border-radius: 0.35em;\">\n",
       "    sustainable\n",
       "    <span style=\"font-size: 0.8em; font-weight: bold; line-height: 1; border-radius: 0.35em; vertical-align: middle; margin-left: 0.5rem\">INTRO_WORDS</span>\n",
       "</mark>\n",
       " practices ensure we contribute positively to the environment. from farmtotable meals to coastal conservation efforts, we \n",
       "<mark class=\"entity\" style=\"background: #ddd; padding: 0.45em 0.6em; margin: 0 0.25em; line-height: 1; border-radius: 0.35em;\">\n",
       "    strive\n",
       "    <span style=\"font-size: 0.8em; font-weight: bold; line-height: 1; border-radius: 0.35em; vertical-align: middle; margin-left: 0.5rem\">INTRO_WORDS</span>\n",
       "</mark>\n",
       " to inspire a lifestyle that honors the earth.</div></span>"
      ],
      "text/plain": [
       "<IPython.core.display.HTML object>"
      ]
     },
     "metadata": {},
     "output_type": "display_data"
    },
    {
     "name": "stdout",
     "output_type": "stream",
     "text": [
      "sustainable INTRO_WORDS\n",
      "strive INTRO_WORDS\n"
     ]
    },
    {
     "data": {
      "text/html": [
       "<span class=\"tex2jax_ignore\"><div class=\"entities\" style=\"line-height: 2.5; direction: ltr\">surfing with us transcends the sport its a way of life. we are \n",
       "<mark class=\"entity\" style=\"background: #ddd; padding: 0.45em 0.6em; margin: 0 0.25em; line-height: 1; border-radius: 0.35em;\">\n",
       "    dedicated\n",
       "    <span style=\"font-size: 0.8em; font-weight: bold; line-height: 1; border-radius: 0.35em; vertical-align: middle; margin-left: 0.5rem\">INTRO_WORDS</span>\n",
       "</mark>\n",
       " to \n",
       "<mark class=\"entity\" style=\"background: #ddd; padding: 0.45em 0.6em; margin: 0 0.25em; line-height: 1; border-radius: 0.35em;\">\n",
       "    fostering\n",
       "    <span style=\"font-size: 0.8em; font-weight: bold; line-height: 1; border-radius: 0.35em; vertical-align: middle; margin-left: 0.5rem\">INTRO_WORDS</span>\n",
       "</mark>\n",
       " a \n",
       "<mark class=\"entity\" style=\"background: #ddd; padding: 0.45em 0.6em; margin: 0 0.25em; line-height: 1; border-radius: 0.35em;\">\n",
       "    nurturing\n",
       "    <span style=\"font-size: 0.8em; font-weight: bold; line-height: 1; border-radius: 0.35em; vertical-align: middle; margin-left: 0.5rem\">INTRO_WORDS</span>\n",
       "</mark>\n",
       " environment where every wave is a shared triumph. with seasoned instructors to guide your journey and a community that celebrates each milestone, youll feel \n",
       "<mark class=\"entity\" style=\"background: #ddd; padding: 0.45em 0.6em; margin: 0 0.25em; line-height: 1; border-radius: 0.35em;\">\n",
       "    motivated\n",
       "    <span style=\"font-size: 0.8em; font-weight: bold; line-height: 1; border-radius: 0.35em; vertical-align: middle; margin-left: 0.5rem\">INTRO_WORDS</span>\n",
       "</mark>\n",
       " to challenge yourself both on the board and in your daily life.</div></span>"
      ],
      "text/plain": [
       "<IPython.core.display.HTML object>"
      ]
     },
     "metadata": {},
     "output_type": "display_data"
    },
    {
     "name": "stdout",
     "output_type": "stream",
     "text": [
      "dedicated INTRO_WORDS\n",
      "fostering INTRO_WORDS\n",
      "nurturing INTRO_WORDS\n",
      "motivated INTRO_WORDS\n"
     ]
    },
    {
     "data": {
      "text/html": [
       "<span class=\"tex2jax_ignore\"><div class=\"entities\" style=\"line-height: 2.5; direction: ltr\">we embrace the balance between the exhilaration of surfing and the tranquility of mindfulness. our wellness offerings include dawn yoga and guided meditation, helping you find your center before you ride the waves. our goal is to create a sanctuary where you can enhance your surfing skills while also \n",
       "<mark class=\"entity\" style=\"background: #ddd; padding: 0.45em 0.6em; margin: 0 0.25em; line-height: 1; border-radius: 0.35em;\">\n",
       "    nurturing\n",
       "    <span style=\"font-size: 0.8em; font-weight: bold; line-height: 1; border-radius: 0.35em; vertical-align: middle; margin-left: 0.5rem\">INTRO_WORDS</span>\n",
       "</mark>\n",
       " your inner peace.</div></span>"
      ],
      "text/plain": [
       "<IPython.core.display.HTML object>"
      ]
     },
     "metadata": {},
     "output_type": "display_data"
    },
    {
     "name": "stdout",
     "output_type": "stream",
     "text": [
      "nurturing INTRO_WORDS\n"
     ]
    },
    {
     "data": {
      "text/html": [
       "<span class=\"tex2jax_ignore\"><div class=\"entities\" style=\"line-height: 2.5; direction: ltr\">our surf camp is \n",
       "<mark class=\"entity\" style=\"background: #ddd; padding: 0.45em 0.6em; margin: 0 0.25em; line-height: 1; border-radius: 0.35em;\">\n",
       "    rooted\n",
       "    <span style=\"font-size: 0.8em; font-weight: bold; line-height: 1; border-radius: 0.35em; vertical-align: middle; margin-left: 0.5rem\">INTRO_WORDS</span>\n",
       "</mark>\n",
       " in sustainability, adventure, and community. we collaborate with local craftsmen and farmers to deliver an \n",
       "<mark class=\"entity\" style=\"background: #ddd; padding: 0.45em 0.6em; margin: 0 0.25em; line-height: 1; border-radius: 0.35em;\">\n",
       "    authentic\n",
       "    <span style=\"font-size: 0.8em; font-weight: bold; line-height: 1; border-radius: 0.35em; vertical-align: middle; margin-left: 0.5rem\">INTRO_WORDS</span>\n",
       "</mark>\n",
       " cultural experience, and every aspect of our retreat is \n",
       "<mark class=\"entity\" style=\"background: #ddd; padding: 0.45em 0.6em; margin: 0 0.25em; line-height: 1; border-radius: 0.35em;\">\n",
       "    designed\n",
       "    <span style=\"font-size: 0.8em; font-weight: bold; line-height: 1; border-radius: 0.35em; vertical-align: middle; margin-left: 0.5rem\">INTRO_WORDS</span>\n",
       "</mark>\n",
       " with environmental consciousness. here, you can surf in untouched waters while making a positive impact on the surrounding ecosystem.</div></span>"
      ],
      "text/plain": [
       "<IPython.core.display.HTML object>"
      ]
     },
     "metadata": {},
     "output_type": "display_data"
    },
    {
     "name": "stdout",
     "output_type": "stream",
     "text": [
      "rooted INTRO_WORDS\n",
      "authentic INTRO_WORDS\n",
      "designed INTRO_WORDS\n"
     ]
    },
    {
     "data": {
      "text/html": [
       "<span class=\"tex2jax_ignore\"><div class=\"entities\" style=\"line-height: 2.5; direction: ltr\">surfing is not just an activity its a way of life that brings us together. our camp creates a \n",
       "<mark class=\"entity\" style=\"background: #ddd; padding: 0.45em 0.6em; margin: 0 0.25em; line-height: 1; border-radius: 0.35em;\">\n",
       "    nurturing\n",
       "    <span style=\"font-size: 0.8em; font-weight: bold; line-height: 1; border-radius: 0.35em; vertical-align: middle; margin-left: 0.5rem\">INTRO_WORDS</span>\n",
       "</mark>\n",
       " environment where every participant is encouraged to celebrate their progress and share their stories. with expert instructors and a \n",
       "<mark class=\"entity\" style=\"background: #ddd; padding: 0.45em 0.6em; margin: 0 0.25em; line-height: 1; border-radius: 0.35em;\">\n",
       "    vibrant\n",
       "    <span style=\"font-size: 0.8em; font-weight: bold; line-height: 1; border-radius: 0.35em; vertical-align: middle; margin-left: 0.5rem\">INTRO_WORDS</span>\n",
       "</mark>\n",
       " community, youll find the motivation to explore your limits and embrace the joy of surfing.</div></span>"
      ],
      "text/plain": [
       "<IPython.core.display.HTML object>"
      ]
     },
     "metadata": {},
     "output_type": "display_data"
    },
    {
     "name": "stdout",
     "output_type": "stream",
     "text": [
      "nurturing INTRO_WORDS\n",
      "vibrant INTRO_WORDS\n"
     ]
    },
    {
     "data": {
      "text/html": [
       "<span class=\"tex2jax_ignore\"><div class=\"entities\" style=\"line-height: 2.5; direction: ltr\">our philosophy centers on the balance between adventure and mindfulness. we offer daily yoga sessions and guided meditation to help you connect with your inner self before you hit the waves. this \n",
       "<mark class=\"entity\" style=\"background: #ddd; padding: 0.45em 0.6em; margin: 0 0.25em; line-height: 1; border-radius: 0.35em;\">\n",
       "    holistic\n",
       "    <span style=\"font-size: 0.8em; font-weight: bold; line-height: 1; border-radius: 0.35em; vertical-align: middle; margin-left: 0.5rem\">INTRO_WORDS</span>\n",
       "</mark>\n",
       " approach ensures that you not only enhance your surfing skills but also cultivate mental clarity and emotional wellbeing.</div></span>"
      ],
      "text/plain": [
       "<IPython.core.display.HTML object>"
      ]
     },
     "metadata": {},
     "output_type": "display_data"
    },
    {
     "name": "stdout",
     "output_type": "stream",
     "text": [
      "holistic INTRO_WORDS\n"
     ]
    },
    {
     "data": {
      "text/html": [
       "<span class=\"tex2jax_ignore\"><div class=\"entities\" style=\"line-height: 2.5; direction: ltr\">at our surf camp, we are \n",
       "<mark class=\"entity\" style=\"background: #ddd; padding: 0.45em 0.6em; margin: 0 0.25em; line-height: 1; border-radius: 0.35em;\">\n",
       "    dedicated\n",
       "    <span style=\"font-size: 0.8em; font-weight: bold; line-height: 1; border-radius: 0.35em; vertical-align: middle; margin-left: 0.5rem\">INTRO_WORDS</span>\n",
       "</mark>\n",
       " to creating a positive impact on the planet. we collaborate with local communities to promote cultural exchange and environmental stewardship. each surf session is an opportunity to enjoy pristine beaches while actively participating in initiatives that protect our natural surroundings.</div></span>"
      ],
      "text/plain": [
       "<IPython.core.display.HTML object>"
      ]
     },
     "metadata": {},
     "output_type": "display_data"
    },
    {
     "name": "stdout",
     "output_type": "stream",
     "text": [
      "dedicated INTRO_WORDS\n"
     ]
    },
    {
     "data": {
      "text/html": [
       "<span class=\"tex2jax_ignore\"><div class=\"entities\" style=\"line-height: 2.5; direction: ltr\">the ocean teaches us invaluable lessons about resilience and unity. we welcome surfers from all walks of life, \n",
       "<mark class=\"entity\" style=\"background: #ddd; padding: 0.45em 0.6em; margin: 0 0.25em; line-height: 1; border-radius: 0.35em;\">\n",
       "    fostering\n",
       "    <span style=\"font-size: 0.8em; font-weight: bold; line-height: 1; border-radius: 0.35em; vertical-align: middle; margin-left: 0.5rem\">INTRO_WORDS</span>\n",
       "</mark>\n",
       " a sense of belonging and mutual respect. together, we learn, grow, and celebrate the diverse tapestry of experiences that surfing brings, reinforcing our shared commitment to the ocean.</div></span>"
      ],
      "text/plain": [
       "<IPython.core.display.HTML object>"
      ]
     },
     "metadata": {},
     "output_type": "display_data"
    },
    {
     "name": "stdout",
     "output_type": "stream",
     "text": [
      "fostering INTRO_WORDS\n"
     ]
    },
    {
     "data": {
      "text/html": [
       "<span class=\"tex2jax_ignore\"><div class=\"entities\" style=\"line-height: 2.5; direction: ltr\">our goal is to offer an \n",
       "<mark class=\"entity\" style=\"background: #ddd; padding: 0.45em 0.6em; margin: 0 0.25em; line-height: 1; border-radius: 0.35em;\">\n",
       "    enriching\n",
       "    <span style=\"font-size: 0.8em; font-weight: bold; line-height: 1; border-radius: 0.35em; vertical-align: middle; margin-left: 0.5rem\">INTRO_WORDS</span>\n",
       "</mark>\n",
       " surf experience that intertwines personal development with community spirit. whether you are just starting your surfing journey or looking to refine your skills, our \n",
       "<mark class=\"entity\" style=\"background: #ddd; padding: 0.45em 0.6em; margin: 0 0.25em; line-height: 1; border-radius: 0.35em;\">\n",
       "    supportive\n",
       "    <span style=\"font-size: 0.8em; font-weight: bold; line-height: 1; border-radius: 0.35em; vertical-align: middle; margin-left: 0.5rem\">INTRO_WORDS</span>\n",
       "</mark>\n",
       " environment and \n",
       "<mark class=\"entity\" style=\"background: #ddd; padding: 0.45em 0.6em; margin: 0 0.25em; line-height: 1; border-radius: 0.35em;\">\n",
       "    passionate\n",
       "    <span style=\"font-size: 0.8em; font-weight: bold; line-height: 1; border-radius: 0.35em; vertical-align: middle; margin-left: 0.5rem\">INTRO_WORDS</span>\n",
       "</mark>\n",
       " team will guide you towards achieving your goals both in surfing and in life. these examples highlight the essence of surfing as a lifestyle that embodies respect for nature, community engagement, and personal growth, resonating with the themes of the original text.</div></span>"
      ],
      "text/plain": [
       "<IPython.core.display.HTML object>"
      ]
     },
     "metadata": {},
     "output_type": "display_data"
    },
    {
     "name": "stdout",
     "output_type": "stream",
     "text": [
      "enriching INTRO_WORDS\n",
      "supportive INTRO_WORDS\n",
      "passionate INTRO_WORDS\n"
     ]
    },
    {
     "data": {
      "text/html": [
       "<span class=\"tex2jax_ignore\"><div class=\"entities\" style=\"line-height: 2.5; direction: ltr\">at our surf camp, we integrate meditation into our daily routines, recognizing that both surfing and mindfulness share a common goal achieving a state of flow and presence. each surf session is not just about riding waves its an opportunity to immerse yourself in the moment, letting go of distractions and embracing the tranquility of the ocean. we encourage our surfers to take a few moments before hitting the water to breathe deeply and center themselves, \n",
       "<mark class=\"entity\" style=\"background: #ddd; padding: 0.45em 0.6em; margin: 0 0.25em; line-height: 1; border-radius: 0.35em;\">\n",
       "    fostering\n",
       "    <span style=\"font-size: 0.8em; font-weight: bold; line-height: 1; border-radius: 0.35em; vertical-align: middle; margin-left: 0.5rem\">INTRO_WORDS</span>\n",
       "</mark>\n",
       " a deeper connection with both the waves and their inner selves.</div></span>"
      ],
      "text/plain": [
       "<IPython.core.display.HTML object>"
      ]
     },
     "metadata": {},
     "output_type": "display_data"
    },
    {
     "name": "stdout",
     "output_type": "stream",
     "text": [
      "fostering INTRO_WORDS\n"
     ]
    },
    {
     "data": {
      "text/html": [
       "<span class=\"tex2jax_ignore\"><div class=\"entities\" style=\"line-height: 2.5; direction: ltr\">surfing is inherently meditative, providing a unique blend of physical activity and mental clarity. as you paddle out and wait for the perfect wave, you enter a state of mindfulness, where the sounds of the ocean and the rhythm of your breath align. our programs emphasize this connection, offering guided meditation sessions that prepare your mind and body for the exhilarating experience of surfing. by cultivating this awareness, you can enhance your performance on the board while also \n",
       "<mark class=\"entity\" style=\"background: #ddd; padding: 0.45em 0.6em; margin: 0 0.25em; line-height: 1; border-radius: 0.35em;\">\n",
       "    nurturing\n",
       "    <span style=\"font-size: 0.8em; font-weight: bold; line-height: 1; border-radius: 0.35em; vertical-align: middle; margin-left: 0.5rem\">INTRO_WORDS</span>\n",
       "</mark>\n",
       " your emotional wellbeing.</div></span>"
      ],
      "text/plain": [
       "<IPython.core.display.HTML object>"
      ]
     },
     "metadata": {},
     "output_type": "display_data"
    },
    {
     "name": "stdout",
     "output_type": "stream",
     "text": [
      "nurturing INTRO_WORDS\n"
     ]
    },
    {
     "data": {
      "text/html": [
       "<span class=\"tex2jax_ignore\"><div class=\"entities\" style=\"line-height: 2.5; direction: ltr\">our philosophy is \n",
       "<mark class=\"entity\" style=\"background: #ddd; padding: 0.45em 0.6em; margin: 0 0.25em; line-height: 1; border-radius: 0.35em;\">\n",
       "    rooted\n",
       "    <span style=\"font-size: 0.8em; font-weight: bold; line-height: 1; border-radius: 0.35em; vertical-align: middle; margin-left: 0.5rem\">INTRO_WORDS</span>\n",
       "</mark>\n",
       " in the belief that meditation and surfing are two sides of the same coin. both practices require focus, patience, and an appreciation for the present moment. we incorporate mindfulness exercises into our surf lessons, encouraging participants to tune into their bodies and the environment around them. this approach not only improves surfing skills but also fosters a sense of peace and connection with nature that extends beyond the beach.</div></span>"
      ],
      "text/plain": [
       "<IPython.core.display.HTML object>"
      ]
     },
     "metadata": {},
     "output_type": "display_data"
    },
    {
     "name": "stdout",
     "output_type": "stream",
     "text": [
      "rooted INTRO_WORDS\n"
     ]
    },
    {
     "data": {
      "text/html": [
       "<span class=\"tex2jax_ignore\"><div class=\"entities\" style=\"line-height: 2.5; direction: ltr\">embracing the meditative aspects of surfing allows us to connect more deeply with the ocean and ourselves. each wave offers a chance to practice letting goof fear, stress, and distractions. our camp includes mindfulness workshops that teach surfers how to harness the calming effects of meditation, helping them to ride the waves with greater confidence and clarity. this synergy between surfing and meditation cultivates a \n",
       "<mark class=\"entity\" style=\"background: #ddd; padding: 0.45em 0.6em; margin: 0 0.25em; line-height: 1; border-radius: 0.35em;\">\n",
       "    holistic\n",
       "    <span style=\"font-size: 0.8em; font-weight: bold; line-height: 1; border-radius: 0.35em; vertical-align: middle; margin-left: 0.5rem\">INTRO_WORDS</span>\n",
       "</mark>\n",
       " experience that promotes wellbeing both on and off the board.</div></span>"
      ],
      "text/plain": [
       "<IPython.core.display.HTML object>"
      ]
     },
     "metadata": {},
     "output_type": "display_data"
    },
    {
     "name": "stdout",
     "output_type": "stream",
     "text": [
      "holistic INTRO_WORDS\n"
     ]
    },
    {
     "data": {
      "text/html": [
       "<span class=\"tex2jax_ignore\"><div class=\"entities\" style=\"line-height: 2.5; direction: ltr\">at our retreat, we believe that the ocean is a natural sanctuary for meditation. the act of surfing can be a form of mindfulness practice, where you learn to be fully present and \n",
       "<mark class=\"entity\" style=\"background: #ddd; padding: 0.45em 0.6em; margin: 0 0.25em; line-height: 1; border-radius: 0.35em;\">\n",
       "    engaged\n",
       "    <span style=\"font-size: 0.8em; font-weight: bold; line-height: 1; border-radius: 0.35em; vertical-align: middle; margin-left: 0.5rem\">INTRO_WORDS</span>\n",
       "</mark>\n",
       " with the water. we guide our participants through meditation techniques that enhance their surfing experience, teaching them to listen to their bodies and the waves. this connection not only improves their surfing abilities but also fosters a profound sense of peace and harmony with the environment. these examples illustrate how meditation and surfing can work together to create a \n",
       "<mark class=\"entity\" style=\"background: #ddd; padding: 0.45em 0.6em; margin: 0 0.25em; line-height: 1; border-radius: 0.35em;\">\n",
       "    transformative\n",
       "    <span style=\"font-size: 0.8em; font-weight: bold; line-height: 1; border-radius: 0.35em; vertical-align: middle; margin-left: 0.5rem\">INTRO_WORDS</span>\n",
       "</mark>\n",
       " experience, emphasizing mindfulness, emotional balance, and a deeper connection to nature.</div></span>"
      ],
      "text/plain": [
       "<IPython.core.display.HTML object>"
      ]
     },
     "metadata": {},
     "output_type": "display_data"
    },
    {
     "name": "stdout",
     "output_type": "stream",
     "text": [
      "engaged INTRO_WORDS\n",
      "transformative INTRO_WORDS\n"
     ]
    },
    {
     "data": {
      "text/html": [
       "<span class=\"tex2jax_ignore\"><div class=\"entities\" style=\"line-height: 2.5; direction: ltr\">at our surf camp, we integrate meditation into our daily routines, recognizing that both surfing and mindfulness share a common goal achieving a state of flow and presence. each surf session is not just about riding waves its an opportunity to immerse yourself in the moment, letting go of distractions and embracing the tranquility of the ocean. we encourage our surfers to take a few moments before hitting the water to breathe deeply and center themselves, \n",
       "<mark class=\"entity\" style=\"background: #ddd; padding: 0.45em 0.6em; margin: 0 0.25em; line-height: 1; border-radius: 0.35em;\">\n",
       "    fostering\n",
       "    <span style=\"font-size: 0.8em; font-weight: bold; line-height: 1; border-radius: 0.35em; vertical-align: middle; margin-left: 0.5rem\">INTRO_WORDS</span>\n",
       "</mark>\n",
       " a deeper connection with both the waves and their inner selves.</div></span>"
      ],
      "text/plain": [
       "<IPython.core.display.HTML object>"
      ]
     },
     "metadata": {},
     "output_type": "display_data"
    },
    {
     "name": "stdout",
     "output_type": "stream",
     "text": [
      "fostering INTRO_WORDS\n"
     ]
    },
    {
     "data": {
      "text/html": [
       "<span class=\"tex2jax_ignore\"><div class=\"entities\" style=\"line-height: 2.5; direction: ltr\">surfing is inherently meditative, providing a unique blend of physical activity and mental clarity. as you paddle out and wait for the perfect wave, you enter a state of mindfulness, where the sounds of the ocean and the rhythm of your breath align. our programs emphasize this connection, offering guided meditation sessions that prepare your mind and body for the exhilarating experience of surfing. by cultivating this awareness, you can enhance your performance on the board while also \n",
       "<mark class=\"entity\" style=\"background: #ddd; padding: 0.45em 0.6em; margin: 0 0.25em; line-height: 1; border-radius: 0.35em;\">\n",
       "    nurturing\n",
       "    <span style=\"font-size: 0.8em; font-weight: bold; line-height: 1; border-radius: 0.35em; vertical-align: middle; margin-left: 0.5rem\">INTRO_WORDS</span>\n",
       "</mark>\n",
       " your emotional wellbeing.</div></span>"
      ],
      "text/plain": [
       "<IPython.core.display.HTML object>"
      ]
     },
     "metadata": {},
     "output_type": "display_data"
    },
    {
     "name": "stdout",
     "output_type": "stream",
     "text": [
      "nurturing INTRO_WORDS\n"
     ]
    },
    {
     "data": {
      "text/html": [
       "<span class=\"tex2jax_ignore\"><div class=\"entities\" style=\"line-height: 2.5; direction: ltr\">our philosophy is \n",
       "<mark class=\"entity\" style=\"background: #ddd; padding: 0.45em 0.6em; margin: 0 0.25em; line-height: 1; border-radius: 0.35em;\">\n",
       "    rooted\n",
       "    <span style=\"font-size: 0.8em; font-weight: bold; line-height: 1; border-radius: 0.35em; vertical-align: middle; margin-left: 0.5rem\">INTRO_WORDS</span>\n",
       "</mark>\n",
       " in the belief that meditation and surfing are two sides of the same coin. both practices require focus, patience, and an appreciation for the present moment. we incorporate mindfulness exercises into our surf lessons, encouraging participants to tune into their bodies and the environment around them. this approach not only improves surfing skills but also fosters a sense of peace and connection with nature that extends beyond the beach.</div></span>"
      ],
      "text/plain": [
       "<IPython.core.display.HTML object>"
      ]
     },
     "metadata": {},
     "output_type": "display_data"
    },
    {
     "name": "stdout",
     "output_type": "stream",
     "text": [
      "rooted INTRO_WORDS\n"
     ]
    },
    {
     "data": {
      "text/html": [
       "<span class=\"tex2jax_ignore\"><div class=\"entities\" style=\"line-height: 2.5; direction: ltr\">embracing the meditative aspects of surfing allows us to connect more deeply with the ocean and ourselves. each wave offers a chance to practice letting goof fear, stress, and distractions. our camp includes mindfulness workshops that teach surfers how to harness the calming effects of meditation, helping them to ride the waves with greater confidence and clarity. this synergy between surfing and meditation cultivates a \n",
       "<mark class=\"entity\" style=\"background: #ddd; padding: 0.45em 0.6em; margin: 0 0.25em; line-height: 1; border-radius: 0.35em;\">\n",
       "    holistic\n",
       "    <span style=\"font-size: 0.8em; font-weight: bold; line-height: 1; border-radius: 0.35em; vertical-align: middle; margin-left: 0.5rem\">INTRO_WORDS</span>\n",
       "</mark>\n",
       " experience that promotes wellbeing both on and off the board.</div></span>"
      ],
      "text/plain": [
       "<IPython.core.display.HTML object>"
      ]
     },
     "metadata": {},
     "output_type": "display_data"
    },
    {
     "name": "stdout",
     "output_type": "stream",
     "text": [
      "holistic INTRO_WORDS\n"
     ]
    },
    {
     "data": {
      "text/html": [
       "<span class=\"tex2jax_ignore\"><div class=\"entities\" style=\"line-height: 2.5; direction: ltr\">at our retreat, we believe that the ocean is a natural sanctuary for meditation. the act of surfing can be a form of mindfulness practice, where you learn to be fully present and \n",
       "<mark class=\"entity\" style=\"background: #ddd; padding: 0.45em 0.6em; margin: 0 0.25em; line-height: 1; border-radius: 0.35em;\">\n",
       "    engaged\n",
       "    <span style=\"font-size: 0.8em; font-weight: bold; line-height: 1; border-radius: 0.35em; vertical-align: middle; margin-left: 0.5rem\">INTRO_WORDS</span>\n",
       "</mark>\n",
       " with the water. we guide our participants through meditation techniques that enhance their surfing experience, teaching them to listen to their bodies and the waves. this connection not only improves their surfing abilities but also fosters a profound sense of peace and harmony with the environment. these examples illustrate how meditation and surfing can work together to create a \n",
       "<mark class=\"entity\" style=\"background: #ddd; padding: 0.45em 0.6em; margin: 0 0.25em; line-height: 1; border-radius: 0.35em;\">\n",
       "    transformative\n",
       "    <span style=\"font-size: 0.8em; font-weight: bold; line-height: 1; border-radius: 0.35em; vertical-align: middle; margin-left: 0.5rem\">INTRO_WORDS</span>\n",
       "</mark>\n",
       " experience, emphasizing mindfulness, emotional balance, and a deeper connection to nature.</div></span>"
      ],
      "text/plain": [
       "<IPython.core.display.HTML object>"
      ]
     },
     "metadata": {},
     "output_type": "display_data"
    },
    {
     "name": "stdout",
     "output_type": "stream",
     "text": [
      "engaged INTRO_WORDS\n",
      "transformative INTRO_WORDS\n"
     ]
    }
   ],
   "source": [
    "import spacy\n",
    "from spacy import displacy\n",
    "\n",
    "# load newly created model\n",
    "nlp = spacy.load(path_to_file)\n",
    "# check if craeted pipline exist \n",
    "print(f'pipeline_names: {nlp.pipe_names}')\n",
    "print()\n",
    "\n",
    "#create list of all detected entities \n",
    "detected_entities = []\n",
    "#create doc oblject to anlyse sample text\n",
    "for segment in cleaned_segments:\n",
    "    doc = nlp(segment)\n",
    "    \n",
    "    # displaying can be very ineffient maybe change \n",
    "    # Display the text and its entities using displacy\n",
    "    displacy.render(doc, style='ent', jupyter=True)\n",
    "\n",
    "    for ent in doc.ents:\n",
    "        detected_entities.append((ent.text,ent.label_))\n",
    "        # print enties with label \n",
    "        print(ent.text,ent.label_)\n",
    "\n"
   ]
  }
 ],
 "metadata": {
  "kernelspec": {
   "display_name": "venv",
   "language": "python",
   "name": "python3"
  },
  "language_info": {
   "codemirror_mode": {
    "name": "ipython",
    "version": 3
   },
   "file_extension": ".py",
   "mimetype": "text/x-python",
   "name": "python",
   "nbconvert_exporter": "python",
   "pygments_lexer": "ipython3",
   "version": "3.10.9"
  }
 },
 "nbformat": 4,
 "nbformat_minor": 2
}
