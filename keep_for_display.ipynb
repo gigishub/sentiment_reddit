{
 "cells": [
  {
   "cell_type": "markdown",
   "metadata": {},
   "source": [
    "## filter subreddites from a list of subreddits"
   ]
  },
  {
   "cell_type": "code",
   "execution_count": null,
   "metadata": {},
   "outputs": [],
   "source": [
    "df_subreddits = pd.DataFrame(subreddits)\n",
    "dfs = df_subreddits.sort_values(by='subscribers', ascending=False)\n",
    "dfs_temp = dfs[dfs['subscribers'] > 100000]\n",
    "keywords = ['btc','bitcoin']# Create a regular expression pattern to match any of the keywords\n",
    "pattern = '|'.join(keywords)\n",
    "\n",
    "\n",
    "# Filter rows that contain any of the keywords in the 'title' column\n",
    "dfs_temp = dfs_temp[dfs_temp['title'].str.contains(pattern, case=False, na=False)]\n",
    "print(dfs_temp['display_name'].to_list())\n",
    "dfs_temp\n",
    "\n",
    "#['Bitcoin', 'BitcoinBeginners', 'btc', 'litecoin', 'Crypto_Currency_News', 'BitcoinMarkets', 'NiceHash', 'BitcoinIndia', 'XGramatikInsights', 'BitcoinMining', 'Bitcoincash', 'BitcoinCA', 'Jobs4Bitcoins', 'altcoin_news', 'BitcoinUK', 'CryptoTrade', 'NZBitcoin', 'bitcoincashSV', 'bitcoinxt']\n"
   ]
  },
  {
   "cell_type": "code",
   "execution_count": null,
   "metadata": {},
   "outputs": [],
   "source": [
    "import asyncio\n",
    "import asyncpraw\n",
    "import json\n",
    "\n",
    "def load_reddit_credentials(file_path):\n",
    "    \"\"\"Load Reddit API credentials from file.\"\"\"\n",
    "    with open(file_path, 'r') as file:\n",
    "        content = file.read().strip()\n",
    "        if not content:\n",
    "            raise ValueError(\"File is empty\")\n",
    "        credentials = json.loads(content)\n",
    "        return credentials\n",
    "    \n",
    "file_path = '/Users/andre/Documents/Python_local/sentiment_analyses/reddit_creds.json'\n",
    "credentials = load_reddit_credentials(file_path)\n",
    "\n",
    "# Initialize Reddit API\n",
    "reddit = asyncpraw.Reddit(\n",
    "    client_id=credentials['CLIEANT_ID'],\n",
    "    client_secret=credentials['CLIENT_SECRET'],\n",
    "    user_agent=credentials['USER_AGENT']\n",
    "\n",
    ")\n",
    "\n",
    "# Asynchronous function to fetch top posts from a subreddit\n",
    "async def fetch_top_posts(subreddit_name, limit=10):\n",
    "    subreddit = await reddit.subreddit(subreddit_name)\n",
    "    top_posts = []\n",
    "    async for submission in subreddit.top(limit=limit):\n",
    "        top_posts.append(submission.title)\n",
    "    return top_posts\n",
    "\n",
    "# Main function to run the asynchronous tasks\n",
    "async def main():\n",
    "    subreddit_name = 'python'\n",
    "    top_posts = await fetch_top_posts(subreddit_name)\n",
    "    for idx, title in enumerate(top_posts, start=1):\n",
    "        print(f\"{idx}. {title}\")\n",
    "\n",
    "# Run the main function\n",
    "asyncio.run(main())"
   ]
  }
 ],
 "metadata": {
  "language_info": {
   "name": "python"
  }
 },
 "nbformat": 4,
 "nbformat_minor": 2
}
